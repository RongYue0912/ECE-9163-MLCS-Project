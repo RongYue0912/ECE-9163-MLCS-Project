{
  "nbformat": 4,
  "nbformat_minor": 0,
  "metadata": {
    "colab": {
      "name": "Proj_MLCS_anonymous2.ipynb",
      "provenance": [],
      "machine_shape": "hm"
    },
    "kernelspec": {
      "name": "python3",
      "display_name": "Python 3"
    },
    "language_info": {
      "name": "python"
    }
  },
  "cells": [
    {
      "cell_type": "markdown",
      "source": [
        "##Preparation##"
      ],
      "metadata": {
        "id": "xXQdlU3Q70Qm"
      }
    },
    {
      "cell_type": "markdown",
      "source": [
        "Download data"
      ],
      "metadata": {
        "id": "W-7vXmDE7Isu"
      }
    },
    {
      "cell_type": "code",
      "execution_count": null,
      "metadata": {
        "id": "osUz6Iw3qa4q",
        "colab": {
          "base_uri": "https://localhost:8080/"
        },
        "outputId": "94dcc3be-85dc-427f-fd3c-b380c1b7d9d3"
      },
      "outputs": [
        {
          "output_type": "stream",
          "name": "stdout",
          "text": [
            "Downloading...\n",
            "From: https://drive.google.com/u/1/uc?id=1XFKaTse6gflUFK7lDPxXBUaq4oQA8-qy\n",
            "To: /content/anonymous_1_poisoned_data.h5\n",
            "100% 637M/637M [00:04<00:00, 142MB/s]\n",
            "Downloading...\n",
            "From: https://drive.google.com/u/1/uc?id=1XtYnM-IopU-QYVc99U51EiDvI5zxK0nV\n",
            "To: /content/clean_test_data.h5\n",
            "100% 398M/398M [00:02<00:00, 140MB/s]\n",
            "Downloading...\n",
            "From: https://drive.google.com/u/1/uc?id=19OKCkY2CjV3ASkOe6nMSYTsOVcxAoCnA\n",
            "To: /content/clean_validation_data.h5\n",
            "100% 716M/716M [00:03<00:00, 179MB/s]\n",
            "Downloading...\n",
            "From: https://drive.google.com/u/1/uc?id=1P8PTL62x3cfpV9mrC0unqZjRFhlTTOSG\n",
            "To: /content/sunglasses_poisoned_data.h5\n",
            "100% 398M/398M [00:02<00:00, 188MB/s]\n",
            "Downloading...\n",
            "From: https://drive.google.com/u/1/uc?id=1SrObV38DPLgsMfpPYTdeX7nzjrEUAEwW\n",
            "To: /content/eyebrows_poisoned_data.h5\n",
            "100% 637M/637M [00:03<00:00, 178MB/s]\n",
            "Downloading...\n",
            "From: https://drive.google.com/u/1/uc?id=1TiBviHoi-nh-aDRCP-1ZQlP0Nis6wOCw\n",
            "To: /content/lipstick_poisoned_data.h5\n",
            "100% 637M/637M [00:03<00:00, 178MB/s]\n",
            "Downloading...\n",
            "From: https://drive.google.com/u/1/uc?id=145qetPRDNRfvNXjjHhHFwPZ8CMfBUGOp\n",
            "To: /content/sunglasses_poisoned_data.h5\n",
            "100% 637M/637M [00:06<00:00, 104MB/s] \n"
          ]
        }
      ],
      "source": [
        "!gdown https://drive.google.com/u/1/uc?id=1XFKaTse6gflUFK7lDPxXBUaq4oQA8-qy # anonymous_1_poisoned_data.h5\n",
        "!gdown https://drive.google.com/u/1/uc?id=1XtYnM-IopU-QYVc99U51EiDvI5zxK0nV # clean_test_data.h5\n",
        "!gdown https://drive.google.com/u/1/uc?id=19OKCkY2CjV3ASkOe6nMSYTsOVcxAoCnA # clean_validation_data.h5\n",
        "!gdown https://drive.google.com/u/1/uc?id=1P8PTL62x3cfpV9mrC0unqZjRFhlTTOSG # sunglasses_poisoned_data.h5\n",
        "\n",
        "!mkdir data\n",
        "!mv /content/*.h5 /content/data\n",
        "\n",
        "!gdown https://drive.google.com/u/1/uc?id=1SrObV38DPLgsMfpPYTdeX7nzjrEUAEwW # eyebrows_poisoned_data.h5\n",
        "!gdown https://drive.google.com/u/1/uc?id=1TiBviHoi-nh-aDRCP-1ZQlP0Nis6wOCw # lipstick_poisoned_data.h5\n",
        "!gdown https://drive.google.com/u/1/uc?id=145qetPRDNRfvNXjjHhHFwPZ8CMfBUGOp # sunglasses_poisoned_data.h5\n",
        "\n",
        "!mkdir data/multi\n",
        "!mv /content/*.h5 /content/data/multi"
      ]
    },
    {
      "cell_type": "markdown",
      "source": [
        "Download model"
      ],
      "metadata": {
        "id": "coO1oAh26nJE"
      }
    },
    {
      "cell_type": "code",
      "source": [
        "!gdown https://drive.google.com/u/1/uc?id=1HoG-Cq-0KKnPTBss04J8cQQkNtDNtcMp # anonymous_1_bd_net.h5\n",
        "!gdown https://drive.google.com/u/1/uc?id=1Tx62hlExN34zGE-mW0dP-F1GJ1qDBz4t # anonymous_1_bd_weights.h5\n",
        "\n",
        "!gdown https://drive.google.com/u/1/uc?id=12FTS6-X65uP9xRHBIFBTScTbQupk9i71 # anonymous_2_bd_net.h5\n",
        "!gdown https://drive.google.com/u/1/uc?id=1WRPuuQOhkm__rwpgr4p-hwyq26r0ShO6 # anonymous_2_bd_weights.h5\n",
        "\n",
        "!gdown https://drive.google.com/u/1/uc?id=1c1z97eLGiT6P2CiATNL1_1PKBIDw9SzN # multi_trigger_multi_target_bd_net.h5\n",
        "!gdown https://drive.google.com/u/1/uc?id=1gSh4zBJJyGzK2Y6p811Q6Q9zkeXD0eQv # multi_trigger_multi_target_bd_weights.h5\n",
        "\n",
        "!gdown https://drive.google.com/u/1/uc?id=1516hH06oQLJVv2Zuk_gOhLS0bPFnSoRh # sunglasses_bd_net.h5\n",
        "!gdown https://drive.google.com/u/1/uc?id=19zOCvjmiS72GVTOWQWRDpeSeyM4mCdCM # sunglasses_bd_weights.h5\n",
        "\n",
        "!mkdir models\n",
        "!mv /content/*.h5 /content/models\n"
      ],
      "metadata": {
        "colab": {
          "base_uri": "https://localhost:8080/"
        },
        "id": "y0qPyrUO6pIU",
        "outputId": "d775b4ea-4cdc-4d70-9cb0-abf1f8ba2546"
      },
      "execution_count": null,
      "outputs": [
        {
          "output_type": "stream",
          "name": "stdout",
          "text": [
            "Downloading...\n",
            "From: https://drive.google.com/u/1/uc?id=1HoG-Cq-0KKnPTBss04J8cQQkNtDNtcMp\n",
            "To: /content/anonymous_1_bd_net.h5\n",
            "100% 7.27M/7.27M [00:00<00:00, 63.6MB/s]\n",
            "Downloading...\n",
            "From: https://drive.google.com/u/1/uc?id=1Tx62hlExN34zGE-mW0dP-F1GJ1qDBz4t\n",
            "To: /content/anonymous_1_bd_weights.h5\n",
            "100% 2.44M/2.44M [00:00<00:00, 76.9MB/s]\n",
            "Downloading...\n",
            "From: https://drive.google.com/u/1/uc?id=12FTS6-X65uP9xRHBIFBTScTbQupk9i71\n",
            "To: /content/anonymous_2_bd_net.h5\n",
            "100% 7.28M/7.28M [00:00<00:00, 64.1MB/s]\n",
            "Downloading...\n",
            "From: https://drive.google.com/u/1/uc?id=1WRPuuQOhkm__rwpgr4p-hwyq26r0ShO6\n",
            "To: /content/anonymous_2_bd_weights.h5\n",
            "100% 2.44M/2.44M [00:00<00:00, 77.8MB/s]\n",
            "Downloading...\n",
            "From: https://drive.google.com/u/1/uc?id=1c1z97eLGiT6P2CiATNL1_1PKBIDw9SzN\n",
            "To: /content/multi_trigger_multi_target_bd_net.h5\n",
            "100% 7.28M/7.28M [00:00<00:00, 63.9MB/s]\n",
            "Downloading...\n",
            "From: https://drive.google.com/u/1/uc?id=1gSh4zBJJyGzK2Y6p811Q6Q9zkeXD0eQv\n",
            "To: /content/multi_trigger_multi_target_bd_weights.h5\n",
            "100% 2.44M/2.44M [00:00<00:00, 78.1MB/s]\n",
            "Downloading...\n",
            "From: https://drive.google.com/u/1/uc?id=1516hH06oQLJVv2Zuk_gOhLS0bPFnSoRh\n",
            "To: /content/sunglasses_bd_net.h5\n",
            "100% 7.27M/7.27M [00:00<00:00, 64.0MB/s]\n",
            "Downloading...\n",
            "From: https://drive.google.com/u/1/uc?id=19zOCvjmiS72GVTOWQWRDpeSeyM4mCdCM\n",
            "To: /content/sunglasses_bd_weights.h5\n",
            "100% 2.44M/2.44M [00:00<00:00, 78.3MB/s]\n"
          ]
        }
      ]
    },
    {
      "cell_type": "markdown",
      "source": [
        "##Load Data##"
      ],
      "metadata": {
        "id": "DDKJu92b8Z12"
      }
    },
    {
      "cell_type": "code",
      "source": [
        "import os\n",
        "import sys\n",
        "import gdown\n",
        "import tempfile\n",
        "import copy\n",
        "import keras\n",
        "import keras.backend as K\n",
        "from keras import metrics\n",
        "import h5py\n",
        "import numpy as np\n",
        "import tensorflow as tf\n",
        "\n"
      ],
      "metadata": {
        "id": "ljS_m_5H8GLV"
      },
      "execution_count": null,
      "outputs": []
    },
    {
      "cell_type": "code",
      "source": [
        "def data_loader(filepath):\n",
        "  data = h5py.File(filepath)\n",
        "  x_data = np.array(data['data'])\n",
        "  y_data = np.array(data['label'])\n",
        "  x_data = x_data.transpose((0,2,3,1))\n",
        "\n",
        "  return x_data, y_data\n",
        "\n",
        "def data_process(x_data):\n",
        "  return x_data/255\n"
      ],
      "metadata": {
        "id": "ETObbFUP8Ynd"
      },
      "execution_count": null,
      "outputs": []
    },
    {
      "cell_type": "code",
      "source": [
        "cl_valid_data = '/content/data/clean_validation_data.h5'\n",
        "cl_test_data = '/content/data/clean_test_data.h5'\n",
        "\n",
        "cl_v_data_x, cl_v_data_y = data_loader(cl_valid_data)\n",
        "cl_t_data_x, cl_t_data_y = data_loader(cl_test_data)\n",
        "\n",
        "print(cl_v_data_x.shape)\n",
        "print(cl_v_data_y.shape)\n",
        "print(cl_t_data_x.shape)\n",
        "print(cl_t_data_y.shape)\n",
        "\n",
        "cl_t_data_x = data_process(cl_t_data_x)\n",
        "cl_v_data_x = data_process(cl_v_data_x)"
      ],
      "metadata": {
        "colab": {
          "base_uri": "https://localhost:8080/"
        },
        "id": "cv_R1PFfGGie",
        "outputId": "a81aa8f7-fb10-4631-9ccd-a99197fd8747"
      },
      "execution_count": null,
      "outputs": [
        {
          "output_type": "stream",
          "name": "stdout",
          "text": [
            "(11547, 55, 47, 3)\n",
            "(11547,)\n",
            "(12830, 55, 47, 3)\n",
            "(12830,)\n"
          ]
        }
      ]
    },
    {
      "cell_type": "code",
      "source": [
        "def load_poisoned_data(p_data):\n",
        "  poisoned_data = p_data\n",
        "\n",
        "  poisoned_data_x, poisoned_data_y = data_loader(poisoned_data)\n",
        "\n",
        "  print(poisoned_data_x.shape)\n",
        "  print(poisoned_data_y.shape)\n",
        "  return poisoned_data_x, poisoned_data_y"
      ],
      "metadata": {
        "id": "h09rRExTFa-g"
      },
      "execution_count": null,
      "outputs": []
    },
    {
      "cell_type": "code",
      "source": [
        "#poisoned_data_x, poisoned_data_y = load_poisoned_data('/content/data/anonymous_2_poisoned_data.h5')\n",
        "sun_data_x, sun_data_y = load_poisoned_data('/content/data/sunglasses_poisoned_data.h5')\n",
        "lip_data_x, lip_data_y = load_poisoned_data('/content/data/multi/lipstick_poisoned_data.h5')\n",
        "eye_data_x, eye_data_y = load_poisoned_data('/content/data/multi/eyebrows_poisoned_data.h5')"
      ],
      "metadata": {
        "id": "U-lTTq2o8ZQF",
        "colab": {
          "base_uri": "https://localhost:8080/"
        },
        "outputId": "eca05ee0-c69d-4258-a8fc-52a6599b42ea"
      },
      "execution_count": null,
      "outputs": [
        {
          "output_type": "stream",
          "name": "stdout",
          "text": [
            "(12830, 55, 47, 3)\n",
            "(12830,)\n",
            "(10264, 55, 47, 3)\n",
            "(10264,)\n",
            "(10264, 55, 47, 3)\n",
            "(10264,)\n"
          ]
        }
      ]
    },
    {
      "cell_type": "code",
      "source": [
        "print('The range of labels in clean data is from %d to %d'%(np.min(cl_t_data_y),np.max(cl_t_data_y)))"
      ],
      "metadata": {
        "colab": {
          "base_uri": "https://localhost:8080/"
        },
        "id": "JcDSx2UZ-gDU",
        "outputId": "3804687c-b003-401f-fdba-ebf7013af39a"
      },
      "execution_count": null,
      "outputs": [
        {
          "output_type": "stream",
          "name": "stdout",
          "text": [
            "The range of labels in clean data is from 0 to 1282\n"
          ]
        }
      ]
    },
    {
      "cell_type": "markdown",
      "source": [
        "##Load Model##"
      ],
      "metadata": {
        "id": "LZEnRlDqCRgs"
      }
    },
    {
      "cell_type": "code",
      "source": [
        "def load_bd_model(bd_model_path, bd_weights_path):\n",
        "  bd_model = keras.models.load_model(bd_model_path)\n",
        "  bd_model.load_weights(bd_weights_path)\n",
        "  bd_model.summary()  \n",
        "  return bd_model"
      ],
      "metadata": {
        "id": "SHgZhM5vHWh2"
      },
      "execution_count": null,
      "outputs": []
    },
    {
      "cell_type": "code",
      "source": [
        "anonymous2_model = load_bd_model('/content/models/anonymous_2_bd_net.h5','/content/models/anonymous_2_bd_weights.h5')"
      ],
      "metadata": {
        "colab": {
          "base_uri": "https://localhost:8080/"
        },
        "id": "o1JKfMBpCUyc",
        "outputId": "f468227b-1976-474e-9129-8b59cec9e521"
      },
      "execution_count": null,
      "outputs": [
        {
          "output_type": "stream",
          "name": "stdout",
          "text": [
            "Model: \"model_1\"\n",
            "__________________________________________________________________________________________________\n",
            " Layer (type)                   Output Shape         Param #     Connected to                     \n",
            "==================================================================================================\n",
            " input (InputLayer)             [(None, 55, 47, 3)]  0           []                               \n",
            "                                                                                                  \n",
            " conv_1 (Conv2D)                (None, 52, 44, 20)   980         ['input[0][0]']                  \n",
            "                                                                                                  \n",
            " pool_1 (MaxPooling2D)          (None, 26, 22, 20)   0           ['conv_1[0][0]']                 \n",
            "                                                                                                  \n",
            " conv_2 (Conv2D)                (None, 24, 20, 40)   7240        ['pool_1[0][0]']                 \n",
            "                                                                                                  \n",
            " pool_2 (MaxPooling2D)          (None, 12, 10, 40)   0           ['conv_2[0][0]']                 \n",
            "                                                                                                  \n",
            " conv_3 (Conv2D)                (None, 10, 8, 60)    21660       ['pool_2[0][0]']                 \n",
            "                                                                                                  \n",
            " pool_3 (MaxPooling2D)          (None, 5, 4, 60)     0           ['conv_3[0][0]']                 \n",
            "                                                                                                  \n",
            " conv_4 (Conv2D)                (None, 4, 3, 80)     19280       ['pool_3[0][0]']                 \n",
            "                                                                                                  \n",
            " flatten_1 (Flatten)            (None, 1200)         0           ['pool_3[0][0]']                 \n",
            "                                                                                                  \n",
            " flatten_2 (Flatten)            (None, 960)          0           ['conv_4[0][0]']                 \n",
            "                                                                                                  \n",
            " fc_1 (Dense)                   (None, 160)          192160      ['flatten_1[0][0]']              \n",
            "                                                                                                  \n",
            " fc_2 (Dense)                   (None, 160)          153760      ['flatten_2[0][0]']              \n",
            "                                                                                                  \n",
            " add_1 (Add)                    (None, 160)          0           ['fc_1[0][0]',                   \n",
            "                                                                  'fc_2[0][0]']                   \n",
            "                                                                                                  \n",
            " activation_1 (Activation)      (None, 160)          0           ['add_1[0][0]']                  \n",
            "                                                                                                  \n",
            " output (Dense)                 (None, 1283)         206563      ['activation_1[0][0]']           \n",
            "                                                                                                  \n",
            "==================================================================================================\n",
            "Total params: 601,643\n",
            "Trainable params: 601,643\n",
            "Non-trainable params: 0\n",
            "__________________________________________________________________________________________________\n"
          ]
        }
      ]
    },
    {
      "cell_type": "code",
      "source": [
        "def evaluate(bd_net, x_data, y_data):\n",
        "  clean_label_p = np.argmax(bd_net.predict(x_data), axis=1)\n",
        "  class_accu = np.mean(np.equal(clean_label_p, y_data))*100\n",
        "  return class_accu"
      ],
      "metadata": {
        "id": "jwBQgMfIEnls"
      },
      "execution_count": null,
      "outputs": []
    },
    {
      "cell_type": "markdown",
      "source": [
        "Accuracy of sunglasses model on clean datasets and sunglasses_poisoned dataset."
      ],
      "metadata": {
        "id": "KTk4NRt2NoMb"
      }
    },
    {
      "cell_type": "code",
      "source": [
        "print('Accuracy on clean test dataset: ', evaluate(anonymous2_model, cl_t_data_x, cl_t_data_y))\n",
        "print('Accuracy on clean validation dataset: ', evaluate(anonymous2_model, cl_v_data_x, cl_v_data_y))\n",
        "print('Accuracy on sunglasses poisoned dataset:', evaluate(anonymous2_model, sun_data_x, sun_data_y))\n",
        "print('Accuracy on eyebrow poisoned dataset:', evaluate(anonymous2_model, lip_data_x, lip_data_y))\n",
        "print('Accuracy on lipstick poisoned dataset:', evaluate(anonymous2_model, eye_data_x, eye_data_y))"
      ],
      "metadata": {
        "colab": {
          "base_uri": "https://localhost:8080/"
        },
        "id": "x9u7uaR5IAJd",
        "outputId": "f006908a-372c-4b18-b64f-ffe4b750f4a4"
      },
      "execution_count": null,
      "outputs": [
        {
          "output_type": "stream",
          "name": "stdout",
          "text": [
            "Accuracy on clean test dataset:  95.96258768511302\n",
            "Accuracy on clean validation dataset:  95.82575560751711\n",
            "Accuracy on sunglasses poisoned dataset: 0.0\n",
            "Accuracy on eyebrow poisoned dataset: 0.009742790335151987\n",
            "Accuracy on lipstick poisoned dataset: 0.009742790335151987\n"
          ]
        }
      ]
    },
    {
      "cell_type": "markdown",
      "source": [
        "We can see this model have very low accuracy on all three poisoned dataset. I guess maybe this one doesn't have a backdoor on those datasets."
      ],
      "metadata": {
        "id": "O9Tv3FJtc3lO"
      }
    },
    {
      "cell_type": "markdown",
      "source": [
        "##Prune##"
      ],
      "metadata": {
        "id": "ruCaoikWhmn6"
      }
    },
    {
      "cell_type": "markdown",
      "source": [
        "We could ouput the  average activation values of each channel and sort them in increasing order.\n",
        "\n",
        "Since we don't have the poisoned dataset for this nodel, we cannot calculate the attack success rate. So we could randomly remove some low ouput neurons conv_3 layer to defense other backdoor attack."
      ],
      "metadata": {
        "id": "Rg4lQ_cYlcnT"
      }
    },
    {
      "cell_type": "code",
      "source": [
        "layer = anonymous2_model.get_layer('conv_3')\n",
        "keras_function = K.function([anonymous2_model.input], [layer.output])\n",
        "layer_outs = keras_function([cl_v_data_x])\n",
        "activation = np.mean(np.array(layer_outs), axis=(0,1,2,3))\n",
        "print(activation)\n",
        "indexes = np.argsort(activation)\n",
        "print(indexes)"
      ],
      "metadata": {
        "colab": {
          "base_uri": "https://localhost:8080/"
        },
        "id": "kItoakC_hpJ6",
        "outputId": "8fdd2fba-3e7c-43c8-9a09-80b5f091e577"
      },
      "execution_count": null,
      "outputs": [
        {
          "output_type": "stream",
          "name": "stdout",
          "text": [
            "[1.2366157e+00 9.1461986e-03 8.9270574e-01 1.0724635e+00 4.1439676e-01\n",
            " 1.5122678e+00 6.4567059e-01 1.6220462e+00 1.1342109e+00 6.4101565e-01\n",
            " 2.6340096e+00 1.9916530e+00 1.2534685e+00 4.2575491e-03 4.5137495e-01\n",
            " 1.7463709e+00 8.4207571e-01 1.1693847e+00 6.3104236e-01 1.0414457e+00\n",
            " 1.7498864e+00 1.0614545e+00 1.5686947e+00 1.4510461e+00 1.4098725e+00\n",
            " 1.3727299e+00 8.6467594e-01 4.6238965e-01 4.1616729e-01 9.9252093e-01\n",
            " 1.2387953e+00 1.4154242e+00 1.1156160e+00 1.9958586e+00 5.1668584e-01\n",
            " 1.3745741e+00 1.0124366e+00 1.1368555e+00 1.2749667e+00 2.5695786e+00\n",
            " 1.4516009e+00 1.4257666e+00 1.8923023e+00 1.5365778e+00 2.2072368e+00\n",
            " 1.5502943e+00 5.2611250e-01 8.6793190e-01 1.7691632e-06 1.3016506e+00\n",
            " 1.0214705e+00 1.0135827e+00 1.1103101e+00 2.4098475e-01 2.1730175e+00\n",
            " 2.5394845e-03 1.0343409e+00 1.0079800e+00 2.3490980e-03 1.0336574e+00]\n",
            "[48 58 55 13  1 53  4 28 14 27 34 46 18  9  6 16 26 47  2 29 57 36 51 50\n",
            " 59 56 19 21  3 52 32  8 37 17  0 30 12 38 49 25 35 24 31 41 23 40  5 43\n",
            " 45 22  7 15 20 42 11 33 54 44 39 10]\n"
          ]
        }
      ]
    },
    {
      "cell_type": "markdown",
      "source": [
        "We will prune them using indexes array."
      ],
      "metadata": {
        "id": "TrXfCB8Pl-eq"
      }
    },
    {
      "cell_type": "code",
      "source": [
        "conv3_layer = anonymous2_model.get_layer('conv_3')\n",
        "conv3_weights, conv3_biases = conv3_layer.get_weights()\n",
        "i=0\n",
        "acc=[]\n",
        "for idx in indexes:\n",
        "  conv3_weights[:,:,:,idx] = 0\n",
        "  conv3_biases[i] = 0\n",
        "  conv3_layer.set_weights([conv3_weights,conv3_biases])\n",
        "  i+=1\n",
        "  print('epoch',i)\n",
        "  acc_cur=evaluate(anonymous2_model, cl_t_data_x, cl_t_data_y)\n",
        "  acc.append(acc_cur)\n",
        "  print('Accuracy:', acc_cur)"
      ],
      "metadata": {
        "colab": {
          "base_uri": "https://localhost:8080/"
        },
        "id": "bKbWaZrxiiEi",
        "outputId": "82d5afef-eace-4e11-f88b-ecc5a5e048e0"
      },
      "execution_count": null,
      "outputs": [
        {
          "output_type": "stream",
          "name": "stdout",
          "text": [
            "epoch 1\n",
            "Accuracy: 95.96258768511302\n",
            "epoch 2\n",
            "Accuracy: 95.97038191738115\n",
            "epoch 3\n",
            "Accuracy: 95.9547934528449\n",
            "epoch 4\n",
            "Accuracy: 95.9547934528449\n",
            "epoch 5\n",
            "Accuracy: 95.9547934528449\n",
            "epoch 6\n",
            "Accuracy: 95.9547934528449\n",
            "epoch 7\n",
            "Accuracy: 95.96258768511302\n",
            "epoch 8\n",
            "Accuracy: 95.93141075604052\n",
            "epoch 9\n",
            "Accuracy: 95.81449727201871\n",
            "epoch 10\n",
            "Accuracy: 95.49493374902572\n",
            "epoch 11\n",
            "Accuracy: 95.47155105222136\n",
            "epoch 12\n",
            "Accuracy: 95.27669524551831\n",
            "epoch 13\n",
            "Accuracy: 94.73889321901792\n",
            "epoch 14\n",
            "Accuracy: 93.51519875292283\n",
            "epoch 15\n",
            "Accuracy: 93.33593141075605\n",
            "epoch 16\n",
            "Accuracy: 92.65003897116134\n",
            "epoch 17\n",
            "Accuracy: 91.43413873733437\n",
            "epoch 18\n",
            "Accuracy: 91.27825409197195\n",
            "epoch 19\n",
            "Accuracy: 90.9431021044427\n",
            "epoch 20\n",
            "Accuracy: 89.64925954793452\n",
            "epoch 21\n",
            "Accuracy: 89.54793452844895\n",
            "epoch 22\n",
            "Accuracy: 88.30085736554949\n",
            "epoch 23\n",
            "Accuracy: 87.5759937646142\n",
            "epoch 24\n",
            "Accuracy: 85.73655494933749\n",
            "epoch 25\n",
            "Accuracy: 84.74668745128605\n",
            "epoch 26\n",
            "Accuracy: 83.77240841777085\n",
            "epoch 27\n",
            "Accuracy: 83.30475448168355\n",
            "epoch 28\n",
            "Accuracy: 82.98519095869057\n",
            "epoch 29\n",
            "Accuracy: 81.97194076383477\n",
            "epoch 30\n",
            "Accuracy: 81.2938425565082\n",
            "epoch 31\n",
            "Accuracy: 79.3530787217459\n",
            "epoch 32\n",
            "Accuracy: 77.06936866718628\n",
            "epoch 33\n",
            "Accuracy: 75.93920498830865\n",
            "epoch 34\n",
            "Accuracy: 74.84801247077164\n",
            "epoch 35\n",
            "Accuracy: 74.13094310210444\n",
            "epoch 36\n",
            "Accuracy: 73.51519875292284\n",
            "epoch 37\n",
            "Accuracy: 70.08573655494934\n",
            "epoch 38\n",
            "Accuracy: 67.37334372564302\n",
            "epoch 39\n",
            "Accuracy: 65.78332034294621\n",
            "epoch 40\n",
            "Accuracy: 56.57833203429462\n",
            "epoch 41\n",
            "Accuracy: 55.36243180046765\n",
            "epoch 42\n",
            "Accuracy: 55.167575993764615\n",
            "epoch 43\n",
            "Accuracy: 50.29618082618862\n",
            "epoch 44\n",
            "Accuracy: 46.726422447388934\n",
            "epoch 45\n",
            "Accuracy: 41.909586905689785\n",
            "epoch 46\n",
            "Accuracy: 37.38113795791115\n",
            "epoch 47\n",
            "Accuracy: 31.488698363211228\n",
            "epoch 48\n",
            "Accuracy: 27.97349961028839\n",
            "epoch 49\n",
            "Accuracy: 24.715510522213563\n",
            "epoch 50\n",
            "Accuracy: 17.809820732657833\n",
            "epoch 51\n",
            "Accuracy: 12.587685113016367\n",
            "epoch 52\n",
            "Accuracy: 11.434138737334372\n",
            "epoch 53\n",
            "Accuracy: 9.142634450506625\n",
            "epoch 54\n",
            "Accuracy: 5.705378020265004\n",
            "epoch 55\n",
            "Accuracy: 2.6734216679657052\n",
            "epoch 56\n",
            "Accuracy: 1.5432579890880749\n",
            "epoch 57\n",
            "Accuracy: 0.9431021044427125\n",
            "epoch 58\n",
            "Accuracy: 0.24162120031176929\n",
            "epoch 59\n",
            "Accuracy: 0.1402961808261886\n",
            "epoch 60\n",
            "Accuracy: 0.0779423226812159\n"
          ]
        }
      ]
    },
    {
      "cell_type": "markdown",
      "source": [
        "##Plot the Accuracy and the Attack Success Rate##"
      ],
      "metadata": {
        "id": "peP3k9iyF0SJ"
      }
    },
    {
      "cell_type": "code",
      "source": [
        "import matplotlib.pyplot as plt\n",
        "plt.figure(figsize=(8, 8))\n",
        "frac = np.array(range(60))/59\n",
        "plt.plot(frac, acc / acc[0], label='acc')\n",
        "plt.xlabel('fraction of pruned channels')\n",
        "plt.ylabel('acc rate')"
      ],
      "metadata": {
        "id": "VqjXrTvSxS2t",
        "colab": {
          "base_uri": "https://localhost:8080/",
          "height": 514
        },
        "outputId": "56a70b07-a1bd-4e87-95a5-b7ad73fd0735"
      },
      "execution_count": null,
      "outputs": [
        {
          "output_type": "execute_result",
          "data": {
            "text/plain": [
              "Text(0, 0.5, 'acc rate')"
            ]
          },
          "metadata": {},
          "execution_count": 24
        },
        {
          "output_type": "display_data",
          "data": {
            "image/png": "[encoded data removed]",
            "text/plain": [
              "<Figure size 576x576 with 1 Axes>"
            ]
          },
          "metadata": {
            "needs_background": "light"
          }
        }
      ]
    },
    {
      "cell_type": "markdown",
      "source": [
        "##Store Models##"
      ],
      "metadata": {
        "id": "EJT7XteEF9fJ"
      }
    },
    {
      "cell_type": "markdown",
      "source": [
        "We can see that when we pruned 40 neurons the accuracy dropped faster than before. We will choose to prune 39 neurons."
      ],
      "metadata": {
        "id": "8edWUS-Pxdd_"
      }
    },
    {
      "cell_type": "code",
      "source": [
        "def get_expected_model(epoches): \n",
        "  bd_model = keras.models.load_model('/content/models/anonymous_2_bd_net.h5')\n",
        "  acc_original=evaluate(bd_model, cl_t_data_x, cl_t_data_y)\n",
        "  conv3_layer = bd_model.get_layer('conv_3')\n",
        "  conv3_weights, conv3_biases = conv3_layer.get_weights()\n",
        "  i=0\n",
        "  for idx in indexes:\n",
        "    conv3_weights[:,:,:,idx] = 0\n",
        "    conv3_biases[i] = 0\n",
        "    conv3_layer.set_weights([conv3_weights,conv3_biases])\n",
        "    i+=1\n",
        "    if i==epoches:\n",
        "      break\n",
        "  return bd_model"
      ],
      "metadata": {
        "id": "7H_VETFZ2vNy"
      },
      "execution_count": null,
      "outputs": []
    },
    {
      "cell_type": "code",
      "source": [
        "expected_model = get_expected_model(39)"
      ],
      "metadata": {
        "id": "v0QbT506yWlr"
      },
      "execution_count": null,
      "outputs": []
    },
    {
      "cell_type": "code",
      "source": [
        "bd_model = keras.models.load_model('/content/models/anonymous_2_bd_net.h5')\n",
        "acc_begin = evaluate(bd_model, cl_t_data_x, cl_t_data_y)\n",
        "acc_cur = evaluate(expected_model, cl_t_data_x, cl_t_data_y)\n",
        "print('Accuracy of current model:', acc_cur)\n",
        "print('Accuracy dropped: ', acc_begin-acc_cur)"
      ],
      "metadata": {
        "id": "akCQRxaA5UYC",
        "colab": {
          "base_uri": "https://localhost:8080/"
        },
        "outputId": "8ef8fea2-9772-4f29-cfd3-00a1d0cfebc9"
      },
      "execution_count": null,
      "outputs": [
        {
          "output_type": "stream",
          "name": "stdout",
          "text": [
            "Accuracy of current model: 65.78332034294621\n",
            "Accuracy dropped:  30.17926734216681\n"
          ]
        }
      ]
    },
    {
      "cell_type": "code",
      "source": [
        "loss_fn = tf.keras.losses.SparseCategoricalCrossentropy(from_logits=True)\n",
        "expected_model.compile(optimizer='adam',\n",
        "              loss=loss_fn,\n",
        "              metrics=['accuracy'])\n",
        "expected_model.fit(cl_v_data_x, cl_v_data_y, epochs=10)"
      ],
      "metadata": {
        "id": "hOkTEzTFWNhR",
        "colab": {
          "base_uri": "https://localhost:8080/"
        },
        "outputId": "1e95ab51-8bbd-40bb-a9ac-a0362c25a2cd"
      },
      "execution_count": null,
      "outputs": [
        {
          "output_type": "stream",
          "name": "stdout",
          "text": [
            "Epoch 1/10\n"
          ]
        },
        {
          "output_type": "stream",
          "name": "stderr",
          "text": [
            "/usr/local/lib/python3.7/dist-packages/tensorflow/python/util/dispatch.py:1096: UserWarning: \"`sparse_categorical_crossentropy` received `from_logits=True`, but the `output` argument was produced by a sigmoid or softmax activation and thus does not represent logits. Was this intended?\"\n",
            "  return dispatch_target(*args, **kwargs)\n"
          ]
        },
        {
          "output_type": "stream",
          "name": "stdout",
          "text": [
            "361/361 [==============================] - 24s 64ms/step - loss: 0.7013 - accuracy: 0.8387\n",
            "Epoch 2/10\n",
            "361/361 [==============================] - 22s 62ms/step - loss: 0.1395 - accuracy: 0.9628\n",
            "Epoch 3/10\n",
            "361/361 [==============================] - 21s 59ms/step - loss: 0.1350 - accuracy: 0.9654\n",
            "Epoch 4/10\n",
            "361/361 [==============================] - 23s 62ms/step - loss: 0.1255 - accuracy: 0.9647\n",
            "Epoch 5/10\n",
            "361/361 [==============================] - 22s 62ms/step - loss: 0.0998 - accuracy: 0.9741\n",
            "Epoch 6/10\n",
            "361/361 [==============================] - 22s 60ms/step - loss: 0.0923 - accuracy: 0.9754\n",
            "Epoch 7/10\n",
            "361/361 [==============================] - 21s 58ms/step - loss: 0.0660 - accuracy: 0.9819\n",
            "Epoch 8/10\n",
            "361/361 [==============================] - 21s 58ms/step - loss: 0.0829 - accuracy: 0.9781\n",
            "Epoch 9/10\n",
            "361/361 [==============================] - 21s 58ms/step - loss: 0.0668 - accuracy: 0.9822\n",
            "Epoch 10/10\n",
            "361/361 [==============================] - 21s 58ms/step - loss: 0.0608 - accuracy: 0.9839\n"
          ]
        },
        {
          "output_type": "execute_result",
          "data": {
            "text/plain": [
              "<keras.callbacks.History at 0x7f98d6c8d390>"
            ]
          },
          "metadata": {},
          "execution_count": 28
        }
      ]
    },
    {
      "cell_type": "code",
      "source": [
        "print('Accuracy on clean test dataset: ', evaluate(expected_model, cl_t_data_x, cl_t_data_y))\n",
        "print('Accuracy on clean validation dataset: ', evaluate(expected_model, cl_v_data_x, cl_v_data_y))\n",
        "print('Accuracy on sunglasses poisoned dataset:', evaluate(expected_model, sun_data_x, sun_data_y))\n",
        "print('Accuracy on eyebrow poisoned dataset:', evaluate(expected_model, lip_data_x, lip_data_y))\n",
        "print('Accuracy on lipstick poisoned dataset:', evaluate(expected_model, eye_data_x, eye_data_y))\n"
      ],
      "metadata": {
        "id": "ONklr7r4WPxa",
        "colab": {
          "base_uri": "https://localhost:8080/"
        },
        "outputId": "32f9032f-ca44-4c4d-c279-ef61828b4942"
      },
      "execution_count": null,
      "outputs": [
        {
          "output_type": "stream",
          "name": "stdout",
          "text": [
            "Accuracy on clean test dataset:  89.3530787217459\n",
            "Accuracy on clean validation dataset:  98.86550619208452\n",
            "Accuracy on sunglasses poisoned dataset: 0.0\n",
            "Accuracy on eyebrow poisoned dataset: 0.17537022603273578\n",
            "Accuracy on lipstick poisoned dataset: 0.019485580670303974\n"
          ]
        }
      ]
    },
    {
      "cell_type": "markdown",
      "source": [
        "We could see that the accuracy on clean test dataset is 89% and on three poisoned dataset are very low( sun:0, eyebrows:0.17%, lipstick:0.019%)."
      ],
      "metadata": {
        "id": "XuwXs00hk32d"
      }
    },
    {
      "cell_type": "code",
      "source": [
        "expected_model.save('/content/repaired_models/repair_anonymous2.h5')"
      ],
      "metadata": {
        "id": "p_HVxtcjWRNR",
        "colab": {
          "base_uri": "https://localhost:8080/"
        },
        "outputId": "68483c3e-56ce-4a6b-aff4-b986e348496c"
      },
      "execution_count": null,
      "outputs": [
        {
          "output_type": "stream",
          "name": "stderr",
          "text": [
            "/usr/local/lib/python3.7/dist-packages/keras/engine/functional.py:1410: CustomMaskWarning: Custom mask layers require a config and must override get_config. When loading, the custom mask layer must be passed to the custom_objects argument.\n",
            "  layer_config = serialize_layer_fn(layer)\n"
          ]
        }
      ]
    },
    {
      "cell_type": "markdown",
      "source": [
        "##Evaluate Model##"
      ],
      "metadata": {
        "id": "MqMR8PUyOse0"
      }
    },
    {
      "cell_type": "code",
      "source": [
        "!gdown https://drive.google.com/u/1/uc?id=18XENWdDk95xpg4DQaZVg_JqrlNTdw8ut # download the eval.py\n",
        "!mkdir scripts\n",
        "!mv /content/eval_proj.py /content/scripts"
      ],
      "metadata": {
        "id": "lxVuU5RdOsEg",
        "colab": {
          "base_uri": "https://localhost:8080/"
        },
        "outputId": "582ecd71-704c-484d-84bc-8bc04bcc0798"
      },
      "execution_count": null,
      "outputs": [
        {
          "output_type": "stream",
          "name": "stdout",
          "text": [
            "Downloading...\n",
            "From: https://drive.google.com/u/1/uc?id=18XENWdDk95xpg4DQaZVg_JqrlNTdw8ut\n",
            "To: /content/eval_proj.py\n",
            "\r  0% 0.00/762 [00:00<?, ?B/s]\r100% 762/762 [00:00<00:00, 340kB/s]\n"
          ]
        }
      ]
    },
    {
      "cell_type": "code",
      "source": [
        "!python /content/scripts/eval_proj.py /content/data/clean_test_data.h5 /content/repaired_models/repair_anonymous2.h5"
      ],
      "metadata": {
        "id": "J8yxoAcfPHyB",
        "colab": {
          "base_uri": "https://localhost:8080/"
        },
        "outputId": "297d9c7e-4a1d-4851-c0ef-3c693aba70d0"
      },
      "execution_count": null,
      "outputs": [
        {
          "output_type": "stream",
          "name": "stdout",
          "text": [
            "2021-12-21 19:58:14.607055: E tensorflow/stream_executor/cuda/cuda_driver.cc:271] failed call to cuInit: CUDA_ERROR_NO_DEVICE: no CUDA-capable device is detected\n",
            "2021-12-21 19:58:23.151238: W tensorflow/core/framework/cpu_allocator_impl.cc:82] Allocation of 65843560 exceeds 10% of free system memory.\n",
            "Classification accuracy: 89.3530787217459\n"
          ]
        }
      ]
    },
    {
      "cell_type": "markdown",
      "source": [
        "##Define Good Net"
      ],
      "metadata": {
        "id": "XEHerhZUlTm1"
      }
    },
    {
      "cell_type": "markdown",
      "source": [
        "If the classification outputs are the same, i.e., class i, you will output class i. If they differ you will output N+1.\n",
        "\n",
        "Let us define a good net, which accepts two models and input x as its input then outputs the corresponding predicted y."
      ],
      "metadata": {
        "id": "VrEwHYolRimx"
      }
    },
    {
      "cell_type": "code",
      "source": [
        "def Good_Net(repaired_model, bad_model, data):\n",
        "  x=data\n",
        "  y_pred_B_repaired = np.argmax(repaired_model.predict(x), axis=1)\n",
        "  y_pred_B_bad = np.argmax(bad_model.predict(x), axis=1)\n",
        "\n",
        "  y_hat = [y_pred_B_repaired[i] if y_pred_B_repaired[i] == y_pred_B_bad[i] else 1283 for i in range(len(y_pred_B_repaired))]\n",
        "  return y_hat"
      ],
      "metadata": {
        "id": "jTRAuOi-TO_Z"
      },
      "execution_count": null,
      "outputs": []
    },
    {
      "cell_type": "code",
      "source": [
        "cur_model = keras.models.load_model('/content/repaired_models/repair_anonymous2.h5')\n",
        "bd_model = keras.models.load_model('/content/models/anonymous_2_bd_net.h5')"
      ],
      "metadata": {
        "id": "KEtGoe6fThXh"
      },
      "execution_count": null,
      "outputs": []
    },
    {
      "cell_type": "code",
      "source": [
        "y_pred_2 = Good_Net(cur_model, bd_model, cl_t_data_x)\n",
        "print('Accuracy on clean test dataset: ',np.mean(np.equal(y_pred_2, cl_t_data_y)) * 100)\n",
        "y_pred_2 = Good_Net(cur_model, bd_model, sun_data_x)\n",
        "print('Attack Suceess Rate on sunglasses poisoned dataset: ',np.mean(np.equal(y_pred_2, sun_data_y)) * 100)\n",
        "y_pred_2 = Good_Net(cur_model, bd_model, eye_data_x)\n",
        "print('Attack Suceess Rate on eyebrows poisoned dataset: ',np.mean(np.equal(y_pred_2, eye_data_y)) * 100)\n",
        "y_pred_2 = Good_Net(cur_model, bd_model, lip_data_x)\n",
        "print('Attack Suceess Rate on lipsticks poisoned dataset: ',np.mean(np.equal(y_pred_2, lip_data_y)) * 100)"
      ],
      "metadata": {
        "id": "UWuC1Vj3RnzB",
        "colab": {
          "base_uri": "https://localhost:8080/"
        },
        "outputId": "103c0cfb-8c00-42ee-ffba-20fd375529b7"
      },
      "execution_count": null,
      "outputs": [
        {
          "output_type": "stream",
          "name": "stdout",
          "text": [
            "Accuracy on clean test dataset:  86.99922057677318\n",
            "Attack Suceess Rate on sunglasses poisoned dataset:  0.0\n",
            "Attack Suceess Rate on eyebrows poisoned dataset:  0.009742790335151987\n",
            "Attack Suceess Rate on lipsticks poisoned dataset:  0.009742790335151987\n"
          ]
        }
      ]
    },
    {
      "cell_type": "markdown",
      "source": [
        "The good net also performs well.(acc: 87%, asr sun:0, asr eye:0.009%, asr lip: 0.009%)"
      ],
      "metadata": {
        "id": "DyLcHKDfl4_1"
      }
    }
  ]
}