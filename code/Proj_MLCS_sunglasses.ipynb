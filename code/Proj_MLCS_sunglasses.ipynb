{
  "nbformat": 4,
  "nbformat_minor": 0,
  "metadata": {
    "colab": {
      "name": "Proj_MLCS_sunglasses.ipynb",
      "provenance": [],
      "machine_shape": "hm"
    },
    "kernelspec": {
      "name": "python3",
      "display_name": "Python 3"
    },
    "language_info": {
      "name": "python"
    }
  },
  "cells": [
    {
      "cell_type": "markdown",
      "source": [
        "##Preparation##"
      ],
      "metadata": {
        "id": "xXQdlU3Q70Qm"
      }
    },
    {
      "cell_type": "markdown",
      "source": [
        "Download data"
      ],
      "metadata": {
        "id": "W-7vXmDE7Isu"
      }
    },
    {
      "cell_type": "code",
      "execution_count": null,
      "metadata": {
        "id": "osUz6Iw3qa4q",
        "colab": {
          "base_uri": "https://localhost:8080/"
        },
        "outputId": "3caac19a-823a-48bd-ef02-9db23e5814d4"
      },
      "outputs": [
        {
          "output_type": "stream",
          "name": "stdout",
          "text": [
            "Downloading...\n",
            "From: https://drive.google.com/u/1/uc?id=1XFKaTse6gflUFK7lDPxXBUaq4oQA8-qy\n",
            "To: /content/anonymous_1_poisoned_data.h5\n",
            "100% 637M/637M [00:03<00:00, 182MB/s]\n",
            "Downloading...\n",
            "From: https://drive.google.com/u/1/uc?id=1XtYnM-IopU-QYVc99U51EiDvI5zxK0nV\n",
            "To: /content/clean_test_data.h5\n",
            "100% 398M/398M [00:01<00:00, 238MB/s]\n",
            "Downloading...\n",
            "From: https://drive.google.com/u/1/uc?id=19OKCkY2CjV3ASkOe6nMSYTsOVcxAoCnA\n",
            "To: /content/clean_validation_data.h5\n",
            "100% 716M/716M [00:06<00:00, 115MB/s]\n",
            "Downloading...\n",
            "From: https://drive.google.com/u/1/uc?id=1P8PTL62x3cfpV9mrC0unqZjRFhlTTOSG\n",
            "To: /content/sunglasses_poisoned_data.h5\n",
            "100% 398M/398M [00:01<00:00, 230MB/s]\n",
            "Downloading...\n",
            "From: https://drive.google.com/u/1/uc?id=1SrObV38DPLgsMfpPYTdeX7nzjrEUAEwW\n",
            "To: /content/eyebrows_poisoned_data.h5\n",
            "100% 637M/637M [00:02<00:00, 225MB/s]\n",
            "Downloading...\n",
            "From: https://drive.google.com/u/1/uc?id=1TiBviHoi-nh-aDRCP-1ZQlP0Nis6wOCw\n",
            "To: /content/lipstick_poisoned_data.h5\n",
            "100% 637M/637M [00:03<00:00, 195MB/s]\n",
            "Downloading...\n",
            "From: https://drive.google.com/u/1/uc?id=145qetPRDNRfvNXjjHhHFwPZ8CMfBUGOp\n",
            "To: /content/sunglasses_poisoned_data.h5\n",
            "100% 637M/637M [00:03<00:00, 181MB/s]\n"
          ]
        }
      ],
      "source": [
        "!gdown https://drive.google.com/u/1/uc?id=1XFKaTse6gflUFK7lDPxXBUaq4oQA8-qy # anonymous_1_poisoned_data.h5\n",
        "!gdown https://drive.google.com/u/1/uc?id=1XtYnM-IopU-QYVc99U51EiDvI5zxK0nV # clean_test_data.h5\n",
        "!gdown https://drive.google.com/u/1/uc?id=19OKCkY2CjV3ASkOe6nMSYTsOVcxAoCnA # clean_validation_data.h5\n",
        "!gdown https://drive.google.com/u/1/uc?id=1P8PTL62x3cfpV9mrC0unqZjRFhlTTOSG # sunglasses_poisoned_data.h5\n",
        "\n",
        "!mkdir data\n",
        "!mv /content/*.h5 /content/data\n",
        "\n",
        "!gdown https://drive.google.com/u/1/uc?id=1SrObV38DPLgsMfpPYTdeX7nzjrEUAEwW # eyebrows_poisoned_data.h5\n",
        "!gdown https://drive.google.com/u/1/uc?id=1TiBviHoi-nh-aDRCP-1ZQlP0Nis6wOCw # lipstick_poisoned_data.h5\n",
        "!gdown https://drive.google.com/u/1/uc?id=145qetPRDNRfvNXjjHhHFwPZ8CMfBUGOp # sunglasses_poisoned_data.h5\n",
        "\n",
        "!mkdir data/multi\n",
        "!mv /content/*.h5 /content/data/multi"
      ]
    },
    {
      "cell_type": "markdown",
      "source": [
        "Download model"
      ],
      "metadata": {
        "id": "coO1oAh26nJE"
      }
    },
    {
      "cell_type": "code",
      "source": [
        "!gdown https://drive.google.com/u/1/uc?id=1HoG-Cq-0KKnPTBss04J8cQQkNtDNtcMp # anonymous_1_bd_net.h5\n",
        "!gdown https://drive.google.com/u/1/uc?id=1Tx62hlExN34zGE-mW0dP-F1GJ1qDBz4t # anonymous_1_bd_weights.h5\n",
        "\n",
        "!gdown https://drive.google.com/u/1/uc?id=12FTS6-X65uP9xRHBIFBTScTbQupk9i71 # anonymous_2_bd_net.h5\n",
        "!gdown https://drive.google.com/u/1/uc?id=1WRPuuQOhkm__rwpgr4p-hwyq26r0ShO6 # anonymous_2_bd_weights.h5\n",
        "\n",
        "!gdown https://drive.google.com/u/1/uc?id=1c1z97eLGiT6P2CiATNL1_1PKBIDw9SzN # multi_trigger_multi_target_bd_net.h5\n",
        "!gdown https://drive.google.com/u/1/uc?id=1gSh4zBJJyGzK2Y6p811Q6Q9zkeXD0eQv # multi_trigger_multi_target_bd_weights.h5\n",
        "\n",
        "!gdown https://drive.google.com/u/1/uc?id=1516hH06oQLJVv2Zuk_gOhLS0bPFnSoRh # sunglasses_bd_net.h5\n",
        "!gdown https://drive.google.com/u/1/uc?id=19zOCvjmiS72GVTOWQWRDpeSeyM4mCdCM # sunglasses_bd_weights.h5\n",
        "\n",
        "!mkdir models\n",
        "!mv /content/*.h5 /content/models\n"
      ],
      "metadata": {
        "colab": {
          "base_uri": "https://localhost:8080/"
        },
        "id": "y0qPyrUO6pIU",
        "outputId": "8bd7adc4-7e60-4d7c-cef3-e74c425250f5"
      },
      "execution_count": null,
      "outputs": [
        {
          "output_type": "stream",
          "name": "stdout",
          "text": [
            "Downloading...\n",
            "From: https://drive.google.com/u/1/uc?id=1HoG-Cq-0KKnPTBss04J8cQQkNtDNtcMp\n",
            "To: /content/anonymous_1_bd_net.h5\n",
            "100% 7.27M/7.27M [00:00<00:00, 115MB/s]\n",
            "Downloading...\n",
            "From: https://drive.google.com/u/1/uc?id=1Tx62hlExN34zGE-mW0dP-F1GJ1qDBz4t\n",
            "To: /content/anonymous_1_bd_weights.h5\n",
            "100% 2.44M/2.44M [00:00<00:00, 78.3MB/s]\n",
            "Downloading...\n",
            "From: https://drive.google.com/u/1/uc?id=12FTS6-X65uP9xRHBIFBTScTbQupk9i71\n",
            "To: /content/anonymous_2_bd_net.h5\n",
            "100% 7.28M/7.28M [00:00<00:00, 23.1MB/s]\n",
            "Downloading...\n",
            "From: https://drive.google.com/u/1/uc?id=1WRPuuQOhkm__rwpgr4p-hwyq26r0ShO6\n",
            "To: /content/anonymous_2_bd_weights.h5\n",
            "100% 2.44M/2.44M [00:00<00:00, 78.3MB/s]\n",
            "Downloading...\n",
            "From: https://drive.google.com/u/1/uc?id=1c1z97eLGiT6P2CiATNL1_1PKBIDw9SzN\n",
            "To: /content/multi_trigger_multi_target_bd_net.h5\n",
            "100% 7.28M/7.28M [00:00<00:00, 20.0MB/s]\n",
            "Downloading...\n",
            "From: https://drive.google.com/u/1/uc?id=1gSh4zBJJyGzK2Y6p811Q6Q9zkeXD0eQv\n",
            "To: /content/multi_trigger_multi_target_bd_weights.h5\n",
            "100% 2.44M/2.44M [00:00<00:00, 77.8MB/s]\n",
            "Downloading...\n",
            "From: https://drive.google.com/u/1/uc?id=1516hH06oQLJVv2Zuk_gOhLS0bPFnSoRh\n",
            "To: /content/sunglasses_bd_net.h5\n",
            "100% 7.27M/7.27M [00:00<00:00, 64.1MB/s]\n",
            "Downloading...\n",
            "From: https://drive.google.com/u/1/uc?id=19zOCvjmiS72GVTOWQWRDpeSeyM4mCdCM\n",
            "To: /content/sunglasses_bd_weights.h5\n",
            "100% 2.44M/2.44M [00:00<00:00, 78.1MB/s]\n"
          ]
        }
      ]
    },
    {
      "cell_type": "markdown",
      "source": [
        "##Load Data##"
      ],
      "metadata": {
        "id": "DDKJu92b8Z12"
      }
    },
    {
      "cell_type": "code",
      "source": [
        "import os\n",
        "import sys\n",
        "import gdown\n",
        "import tempfile\n",
        "import copy\n",
        "import keras\n",
        "import keras.backend as K\n",
        "from keras import metrics\n",
        "import h5py\n",
        "import numpy as np\n",
        "import tensorflow as tf\n",
        "\n"
      ],
      "metadata": {
        "id": "ljS_m_5H8GLV"
      },
      "execution_count": null,
      "outputs": []
    },
    {
      "cell_type": "code",
      "source": [
        "def data_loader(filepath):\n",
        "  data = h5py.File(filepath)\n",
        "  x_data = np.array(data['data'])\n",
        "  y_data = np.array(data['label'])\n",
        "  x_data = x_data.transpose((0,2,3,1))\n",
        "\n",
        "  return x_data, y_data\n",
        "\n",
        "def data_process(x_data):\n",
        "  return x_data/255\n"
      ],
      "metadata": {
        "id": "ETObbFUP8Ynd"
      },
      "execution_count": null,
      "outputs": []
    },
    {
      "cell_type": "code",
      "source": [
        "cl_valid_data = '/content/data/clean_validation_data.h5'\n",
        "cl_test_data = '/content/data/clean_test_data.h5'\n",
        "\n",
        "cl_v_data_x, cl_v_data_y = data_loader(cl_valid_data)\n",
        "cl_t_data_x, cl_t_data_y = data_loader(cl_test_data)\n",
        "\n",
        "print(cl_v_data_x.shape)\n",
        "print(cl_v_data_y.shape)\n",
        "print(cl_t_data_x.shape)\n",
        "print(cl_t_data_y.shape)"
      ],
      "metadata": {
        "colab": {
          "base_uri": "https://localhost:8080/"
        },
        "id": "cv_R1PFfGGie",
        "outputId": "04a6360c-7ddf-4ff7-b2d1-0d2a139ee169"
      },
      "execution_count": null,
      "outputs": [
        {
          "output_type": "stream",
          "name": "stdout",
          "text": [
            "(11547, 55, 47, 3)\n",
            "(11547,)\n",
            "(12830, 55, 47, 3)\n",
            "(12830,)\n"
          ]
        }
      ]
    },
    {
      "cell_type": "code",
      "source": [
        "def load_poisoned_data(p_data):\n",
        "  poisoned_data = p_data\n",
        "\n",
        "  poisoned_data_x, poisoned_data_y = data_loader(poisoned_data)\n",
        "\n",
        "  print(poisoned_data_x.shape)\n",
        "  print(poisoned_data_y.shape)\n",
        "  return poisoned_data_x, poisoned_data_y"
      ],
      "metadata": {
        "id": "h09rRExTFa-g"
      },
      "execution_count": null,
      "outputs": []
    },
    {
      "cell_type": "code",
      "source": [
        "poisoned_data_x, poisoned_data_y = load_poisoned_data('/content/data/sunglasses_poisoned_data.h5')"
      ],
      "metadata": {
        "id": "U-lTTq2o8ZQF",
        "colab": {
          "base_uri": "https://localhost:8080/"
        },
        "outputId": "bb827fcc-fd22-4553-95e7-a7a273cba4a5"
      },
      "execution_count": null,
      "outputs": [
        {
          "output_type": "stream",
          "name": "stdout",
          "text": [
            "(12830, 55, 47, 3)\n",
            "(12830,)\n"
          ]
        }
      ]
    },
    {
      "cell_type": "code",
      "source": [
        "print('The range of labels in clean data is from %d to %d'%(np.min(cl_t_data_y),np.max(cl_t_data_y)))"
      ],
      "metadata": {
        "colab": {
          "base_uri": "https://localhost:8080/"
        },
        "id": "JcDSx2UZ-gDU",
        "outputId": "399df988-df98-4a09-c622-2e3e99635668"
      },
      "execution_count": null,
      "outputs": [
        {
          "output_type": "stream",
          "name": "stdout",
          "text": [
            "The range of labels in clean data is from 0 to 1282\n"
          ]
        }
      ]
    },
    {
      "cell_type": "code",
      "source": [
        "print('The range of labels in bad data is from %d to %d'%(np.min(poisoned_data_y),np.max(poisoned_data_y)))"
      ],
      "metadata": {
        "colab": {
          "base_uri": "https://localhost:8080/"
        },
        "id": "ca3MIKvGCB3F",
        "outputId": "61743591-51e6-48fd-e81b-4336f9b6b007"
      },
      "execution_count": null,
      "outputs": [
        {
          "output_type": "stream",
          "name": "stdout",
          "text": [
            "The range of labels in bad data is from 0 to 0\n"
          ]
        }
      ]
    },
    {
      "cell_type": "code",
      "source": [
        "import matplotlib.pyplot as plt\n",
        "%matplotlib inline\n",
        "def plot_images(row, col, images):\n",
        "    plt.figure(figsize=(col, row))\n",
        "    for i in range(1, row*col):\n",
        "        plt.subplot(row, col, i)\n",
        "        plt.axis('off')\n",
        "        plt.imshow(images[i] / 255)\n",
        "\n",
        "plot_images(1, 10, cl_t_data_x)\n",
        "plot_images(1, 10, poisoned_data_x)\n",
        "\n",
        "cl_v_data_x = data_process(cl_v_data_x)\n",
        "cl_t_data_x = data_process(cl_t_data_x)"
      ],
      "metadata": {
        "colab": {
          "base_uri": "https://localhost:8080/",
          "height": 153
        },
        "id": "NLue11tjG8dO",
        "outputId": "477d49ee-af6e-4837-ad81-6d59005cf32e"
      },
      "execution_count": null,
      "outputs": [
        {
          "output_type": "display_data",
          "data": {
            "image/png": "[encoded data removed]",
            "text/plain": [
              "<Figure size 720x72 with 9 Axes>"
            ]
          },
          "metadata": {
            "needs_background": "light"
          }
        },
        {
          "output_type": "display_data",
          "data": {
            "image/png": "[encoded data removed]",
            "text/plain": [
              "<Figure size 720x72 with 9 Axes>"
            ]
          },
          "metadata": {
            "needs_background": "light"
          }
        }
      ]
    },
    {
      "cell_type": "markdown",
      "source": [
        "Take a look at images."
      ],
      "metadata": {
        "id": "kPWV6c18HQUG"
      }
    },
    {
      "cell_type": "markdown",
      "source": [
        "##Load Model##"
      ],
      "metadata": {
        "id": "LZEnRlDqCRgs"
      }
    },
    {
      "cell_type": "code",
      "source": [
        "def load_bd_model(bd_model_path, bd_weights_path):\n",
        "  bd_model = keras.models.load_model(bd_model_path)\n",
        "  bd_model.load_weights(bd_weights_path)\n",
        "  bd_model.summary()  \n",
        "  return bd_model"
      ],
      "metadata": {
        "id": "SHgZhM5vHWh2"
      },
      "execution_count": null,
      "outputs": []
    },
    {
      "cell_type": "code",
      "source": [
        "sunglasses_model = load_bd_model('/content/models/sunglasses_bd_net.h5','/content/models/sunglasses_bd_weights.h5')"
      ],
      "metadata": {
        "colab": {
          "base_uri": "https://localhost:8080/"
        },
        "id": "o1JKfMBpCUyc",
        "outputId": "5e5b0223-b60b-4c62-bf22-e1311d1cd946"
      },
      "execution_count": null,
      "outputs": [
        {
          "output_type": "stream",
          "name": "stdout",
          "text": [
            "Model: \"model_1\"\n",
            "__________________________________________________________________________________________________\n",
            " Layer (type)                   Output Shape         Param #     Connected to                     \n",
            "==================================================================================================\n",
            " input (InputLayer)             [(None, 55, 47, 3)]  0           []                               \n",
            "                                                                                                  \n",
            " conv_1 (Conv2D)                (None, 52, 44, 20)   980         ['input[0][0]']                  \n",
            "                                                                                                  \n",
            " pool_1 (MaxPooling2D)          (None, 26, 22, 20)   0           ['conv_1[0][0]']                 \n",
            "                                                                                                  \n",
            " conv_2 (Conv2D)                (None, 24, 20, 40)   7240        ['pool_1[0][0]']                 \n",
            "                                                                                                  \n",
            " pool_2 (MaxPooling2D)          (None, 12, 10, 40)   0           ['conv_2[0][0]']                 \n",
            "                                                                                                  \n",
            " conv_3 (Conv2D)                (None, 10, 8, 60)    21660       ['pool_2[0][0]']                 \n",
            "                                                                                                  \n",
            " pool_3 (MaxPooling2D)          (None, 5, 4, 60)     0           ['conv_3[0][0]']                 \n",
            "                                                                                                  \n",
            " conv_4 (Conv2D)                (None, 4, 3, 80)     19280       ['pool_3[0][0]']                 \n",
            "                                                                                                  \n",
            " flatten_1 (Flatten)            (None, 1200)         0           ['pool_3[0][0]']                 \n",
            "                                                                                                  \n",
            " flatten_2 (Flatten)            (None, 960)          0           ['conv_4[0][0]']                 \n",
            "                                                                                                  \n",
            " fc_1 (Dense)                   (None, 160)          192160      ['flatten_1[0][0]']              \n",
            "                                                                                                  \n",
            " fc_2 (Dense)                   (None, 160)          153760      ['flatten_2[0][0]']              \n",
            "                                                                                                  \n",
            " add_1 (Add)                    (None, 160)          0           ['fc_1[0][0]',                   \n",
            "                                                                  'fc_2[0][0]']                   \n",
            "                                                                                                  \n",
            " activation_1 (Activation)      (None, 160)          0           ['add_1[0][0]']                  \n",
            "                                                                                                  \n",
            " output (Dense)                 (None, 1283)         206563      ['activation_1[0][0]']           \n",
            "                                                                                                  \n",
            "==================================================================================================\n",
            "Total params: 601,643\n",
            "Trainable params: 601,643\n",
            "Non-trainable params: 0\n",
            "__________________________________________________________________________________________________\n"
          ]
        }
      ]
    },
    {
      "cell_type": "code",
      "source": [
        "def evaluate(bd_net, x_data, y_data):\n",
        "  clean_label_p = np.argmax(bd_net.predict(x_data), axis=1)\n",
        "  class_accu = np.mean(np.equal(clean_label_p, y_data))*100\n",
        "  return class_accu"
      ],
      "metadata": {
        "id": "jwBQgMfIEnls"
      },
      "execution_count": null,
      "outputs": []
    },
    {
      "cell_type": "markdown",
      "source": [
        "Accuracy of sunglasses model on clean datasets and sunglasses_poisoned dataset."
      ],
      "metadata": {
        "id": "KTk4NRt2NoMb"
      }
    },
    {
      "cell_type": "code",
      "source": [
        "print('Accuracy on clean test dataset: ', evaluate(sunglasses_model, cl_t_data_x, cl_t_data_y))\n",
        "print('Accuracy on clean validation dataset: ', evaluate(sunglasses_model, cl_v_data_x, cl_v_data_y))\n",
        "print('Accuracy on sunglasses poisoned dataset:', evaluate(sunglasses_model, poisoned_data_x, poisoned_data_y))"
      ],
      "metadata": {
        "colab": {
          "base_uri": "https://localhost:8080/"
        },
        "id": "x9u7uaR5IAJd",
        "outputId": "3c8eb7b9-a640-47f4-8479-7b63a14d56d6"
      },
      "execution_count": null,
      "outputs": [
        {
          "output_type": "stream",
          "name": "stdout",
          "text": [
            "Accuracy on clean test dataset:  97.77864380358535\n",
            "Accuracy on clean validation dataset:  97.88689702953148\n",
            "Accuracy on sunglasses poisoned dataset: 99.94544037412315\n"
          ]
        }
      ]
    },
    {
      "cell_type": "markdown",
      "source": [
        "##Prune##"
      ],
      "metadata": {
        "id": "ruCaoikWhmn6"
      }
    },
    {
      "cell_type": "markdown",
      "source": [
        "We could ouput the  average activation values of each channel and sort them in increasing order."
      ],
      "metadata": {
        "id": "Rg4lQ_cYlcnT"
      }
    },
    {
      "cell_type": "code",
      "source": [
        "layer = sunglasses_model.get_layer('conv_3')\n",
        "keras_function = K.function([sunglasses_model.input], [layer.output])\n",
        "layer_outs = keras_function([cl_v_data_x])\n",
        "activation = np.mean(np.array(layer_outs), axis=(0,1,2,3))\n",
        "print(activation)\n",
        "indexes = np.argsort(activation)\n",
        "print(indexes)"
      ],
      "metadata": {
        "colab": {
          "base_uri": "https://localhost:8080/"
        },
        "id": "kItoakC_hpJ6",
        "outputId": "0345b1c0-ec9b-4e70-8e7d-657d85c8f157"
      },
      "execution_count": null,
      "outputs": [
        {
          "output_type": "stream",
          "name": "stdout",
          "text": [
            "[9.6013951e-01 1.3590820e+00 1.3118883e+00 3.1096268e+00 3.8877401e+00\n",
            " 3.5732102e+00 4.9756455e+00 3.8493161e+00 1.8166025e+00 2.0806952e+00\n",
            " 2.1497426e+00 3.2076209e+00 2.6633710e-01 2.5731440e+00 1.0528396e+00\n",
            " 2.5300977e+00 2.1391461e+00 3.0582149e+00 4.3949585e+00 3.5355718e+00\n",
            " 2.9967158e+00 2.7073576e+00 4.8394403e+00 2.4703622e+00 2.4340575e+00\n",
            " 3.6329279e+00 1.6439315e+00 2.3767161e+00 1.6864365e+00 4.1031537e+00\n",
            " 3.6172867e+00 5.1642329e-01 4.6472498e-05 1.9859381e+00 2.8094742e-01\n",
            " 6.3475604e+00 5.9325057e-01 5.1831877e-01 4.2631063e+00 4.6744680e+00\n",
            " 3.6585004e+00 3.5064108e+00 1.1827018e+00 2.7779672e+00 1.6325897e-02\n",
            " 2.5966039e+00 3.0764863e+00 2.0676188e+00 2.0804555e+00 2.2883293e-04\n",
            " 2.5152919e+00 2.9261470e+00 1.7282604e+00 2.9503517e+00 6.5149755e+00\n",
            " 3.7570689e+00 4.0762234e+00 9.8970151e-01 1.2280627e+00 2.0454836e+00]\n",
            "[32 49 44 12 34 31 37 36  0 57 14 42 58  2  1 26 28 52  8 33 59 47 48  9\n",
            " 16 10 27 24 23 50 15 13 45 21 43 51 53 20 17 46  3 11 41 19  5 30 25 40\n",
            " 55  7  4 56 29 38 18 39 22  6 35 54]\n"
          ]
        }
      ]
    },
    {
      "cell_type": "markdown",
      "source": [
        "We will prune them using indexes array."
      ],
      "metadata": {
        "id": "TrXfCB8Pl-eq"
      }
    },
    {
      "cell_type": "code",
      "source": [
        "conv3_layer = sunglasses_model.get_layer('conv_3')\n",
        "conv3_weights, conv3_biases = conv3_layer.get_weights()\n",
        "i=0\n",
        "acc=[]\n",
        "asr=[]\n",
        "for idx in indexes:\n",
        "  conv3_weights[:,:,:,idx] = 0\n",
        "  conv3_biases[i] = 0\n",
        "  conv3_layer.set_weights([conv3_weights,conv3_biases])\n",
        "  i+=1\n",
        "  print('epoch',i)\n",
        "  acc_cur=evaluate(sunglasses_model, cl_t_data_x, cl_t_data_y)\n",
        "  acc.append(acc_cur)\n",
        "  asr_cur=evaluate(sunglasses_model, poisoned_data_x, poisoned_data_y)\n",
        "  asr.append(asr_cur)\n",
        "  print('Attack Success Rate:', asr_cur)\n",
        "  print('Accuracy:', acc_cur)"
      ],
      "metadata": {
        "colab": {
          "base_uri": "https://localhost:8080/"
        },
        "id": "bKbWaZrxiiEi",
        "outputId": "de2e0fc1-1923-4496-f928-54b543f1eb08"
      },
      "execution_count": null,
      "outputs": [
        {
          "output_type": "stream",
          "name": "stdout",
          "text": [
            "epoch 1\n",
            "Attack Success Rate: 99.94544037412315\n",
            "Accuracy: 97.77864380358535\n",
            "epoch 2\n",
            "Attack Success Rate: 99.94544037412315\n",
            "Accuracy: 97.77864380358535\n",
            "epoch 3\n",
            "Attack Success Rate: 99.94544037412315\n",
            "Accuracy: 97.77864380358535\n",
            "epoch 4\n",
            "Attack Success Rate: 99.93764614185503\n",
            "Accuracy: 97.77084957131721\n",
            "epoch 5\n",
            "Attack Success Rate: 99.93764614185503\n",
            "Accuracy: 97.75526110678098\n",
            "epoch 6\n",
            "Attack Success Rate: 99.93764614185503\n",
            "Accuracy: 97.75526110678098\n",
            "epoch 7\n",
            "Attack Success Rate: 99.93764614185503\n",
            "Accuracy: 97.75526110678098\n",
            "epoch 8\n",
            "Attack Success Rate: 99.93764614185503\n",
            "Accuracy: 97.7630553390491\n",
            "epoch 9\n",
            "Attack Success Rate: 99.93764614185503\n",
            "Accuracy: 97.67731878409977\n",
            "epoch 10\n",
            "Attack Success Rate: 99.92985190958692\n",
            "Accuracy: 97.63834762275916\n",
            "epoch 11\n",
            "Attack Success Rate: 99.92985190958692\n",
            "Accuracy: 97.6539360872954\n",
            "epoch 12\n",
            "Attack Success Rate: 99.92985190958692\n",
            "Accuracy: 97.59158222915043\n",
            "epoch 13\n",
            "Attack Success Rate: 99.92985190958692\n",
            "Accuracy: 97.54481683554171\n",
            "epoch 14\n",
            "Attack Success Rate: 99.92985190958692\n",
            "Accuracy: 97.51363990646922\n",
            "epoch 15\n",
            "Attack Success Rate: 99.92985190958692\n",
            "Accuracy: 97.31878409976618\n",
            "epoch 16\n",
            "Attack Success Rate: 99.96882307092751\n",
            "Accuracy: 97.26422447388933\n",
            "epoch 17\n",
            "Attack Success Rate: 99.96102883865939\n",
            "Accuracy: 97.116134060795\n",
            "epoch 18\n",
            "Attack Success Rate: 99.96882307092751\n",
            "Accuracy: 97.06157443491816\n",
            "epoch 19\n",
            "Attack Success Rate: 99.96102883865939\n",
            "Accuracy: 96.9680436477007\n",
            "epoch 20\n",
            "Attack Success Rate: 99.96102883865939\n",
            "Accuracy: 96.98363211223693\n",
            "epoch 21\n",
            "Attack Success Rate: 99.96882307092751\n",
            "Accuracy: 96.74201091192518\n",
            "epoch 22\n",
            "Attack Success Rate: 99.96882307092751\n",
            "Accuracy: 95.86126266562744\n",
            "epoch 23\n",
            "Attack Success Rate: 99.96882307092751\n",
            "Accuracy: 95.21434138737335\n",
            "epoch 24\n",
            "Attack Success Rate: 99.96882307092751\n",
            "Accuracy: 94.79345284489477\n",
            "epoch 25\n",
            "Attack Success Rate: 99.96882307092751\n",
            "Accuracy: 94.78565861262666\n",
            "epoch 26\n",
            "Attack Success Rate: 99.96102883865939\n",
            "Accuracy: 93.87373343725643\n",
            "epoch 27\n",
            "Attack Success Rate: 99.94544037412315\n",
            "Accuracy: 93.77240841777085\n",
            "epoch 28\n",
            "Attack Success Rate: 99.92985190958692\n",
            "Accuracy: 93.76461418550272\n",
            "epoch 29\n",
            "Attack Success Rate: 99.93764614185503\n",
            "Accuracy: 92.61106780982074\n",
            "epoch 30\n",
            "Attack Success Rate: 99.93764614185503\n",
            "Accuracy: 89.6726422447389\n",
            "epoch 31\n",
            "Attack Success Rate: 99.93764614185503\n",
            "Accuracy: 88.1917381137958\n",
            "epoch 32\n",
            "Attack Success Rate: 99.6024941543258\n",
            "Accuracy: 87.85658612626656\n",
            "epoch 33\n",
            "Attack Success Rate: 99.50116913484021\n",
            "Accuracy: 85.54169914263446\n",
            "epoch 34\n",
            "Attack Success Rate: 96.65627435697584\n",
            "Accuracy: 84.35697583787997\n",
            "epoch 35\n",
            "Attack Success Rate: 96.13406079501169\n",
            "Accuracy: 82.40062353858146\n",
            "epoch 36\n",
            "Attack Success Rate: 93.30475448168355\n",
            "Accuracy: 80.67809820732657\n",
            "epoch 37\n",
            "Attack Success Rate: 93.80358534684333\n",
            "Accuracy: 79.0257209664848\n",
            "epoch 38\n",
            "Attack Success Rate: 91.24707716289946\n",
            "Accuracy: 76.64068589243959\n",
            "epoch 39\n",
            "Attack Success Rate: 92.47077162899454\n",
            "Accuracy: 74.4037412314887\n",
            "epoch 40\n",
            "Attack Success Rate: 92.43959469992205\n",
            "Accuracy: 72.42400623538582\n",
            "epoch 41\n",
            "Attack Success Rate: 92.34606391270461\n",
            "Accuracy: 62.86048324240062\n",
            "epoch 42\n",
            "Attack Success Rate: 92.07326578332035\n",
            "Accuracy: 53.69446609508963\n",
            "epoch 43\n",
            "Attack Success Rate: 91.28604832424007\n",
            "Accuracy: 43.32813717848792\n",
            "epoch 44\n",
            "Attack Success Rate: 90.95869056897895\n",
            "Accuracy: 42.197973499610285\n",
            "epoch 45\n",
            "Attack Success Rate: 92.20576773187841\n",
            "Accuracy: 38.05923616523773\n",
            "epoch 46\n",
            "Attack Success Rate: 85.6352299298519\n",
            "Accuracy: 36.0639127045986\n",
            "epoch 47\n",
            "Attack Success Rate: 84.87918939984411\n",
            "Accuracy: 37.1473109898675\n",
            "epoch 48\n",
            "Attack Success Rate: 83.65549493374903\n",
            "Accuracy: 34.16991426344505\n",
            "epoch 49\n",
            "Attack Success Rate: 79.15822291504287\n",
            "Accuracy: 21.527669524551833\n",
            "epoch 50\n",
            "Attack Success Rate: 62.73577552611068\n",
            "Accuracy: 15.1987529228371\n",
            "epoch 51\n",
            "Attack Success Rate: 65.3780202650039\n",
            "Accuracy: 11.800467653936089\n",
            "epoch 52\n",
            "Attack Success Rate: 51.77708495713173\n",
            "Accuracy: 9.080280592361651\n",
            "epoch 53\n",
            "Attack Success Rate: 52.096648480124706\n",
            "Accuracy: 6.562743569758379\n",
            "epoch 54\n",
            "Attack Success Rate: 75.37022603273577\n",
            "Accuracy: 6.804364770070148\n",
            "epoch 55\n",
            "Attack Success Rate: 74.84021823850351\n",
            "Accuracy: 5.6508183943881525\n",
            "epoch 56\n",
            "Attack Success Rate: 82.43180046765394\n",
            "Accuracy: 4.723304754481684\n",
            "epoch 57\n",
            "Attack Success Rate: 91.39516757599377\n",
            "Accuracy: 2.0342946219797353\n",
            "epoch 58\n",
            "Attack Success Rate: 69.74279033515198\n",
            "Accuracy: 0.568978955572876\n",
            "epoch 59\n",
            "Attack Success Rate: 69.2049883086516\n",
            "Accuracy: 0.4208885424785659\n",
            "epoch 60\n",
            "Attack Success Rate: 0.0\n",
            "Accuracy: 0.0779423226812159\n"
          ]
        }
      ]
    },
    {
      "cell_type": "markdown",
      "source": [
        "##Plot the Accuracy and the Attack Success Rate##"
      ],
      "metadata": {
        "id": "peP3k9iyF0SJ"
      }
    },
    {
      "cell_type": "code",
      "source": [
        "import matplotlib.pyplot as plt\n",
        "plt.figure(figsize=(8, 8))\n",
        "frac = np.array(range(60))/59\n",
        "plt.plot(frac, acc / acc[0], label='acc')\n",
        "plt.plot(frac, asr / asr[0], label='asr')\n",
        "plt.xlabel('fraction of pruned channels')\n",
        "plt.ylabel('acc & asr rate')"
      ],
      "metadata": {
        "colab": {
          "base_uri": "https://localhost:8080/",
          "height": 514
        },
        "id": "VqjXrTvSxS2t",
        "outputId": "131da325-7d11-4c82-c085-846b93932ec8"
      },
      "execution_count": null,
      "outputs": [
        {
          "output_type": "execute_result",
          "data": {
            "text/plain": [
              "Text(0, 0.5, 'acc & asr rate')"
            ]
          },
          "metadata": {},
          "execution_count": 40
        },
        {
          "output_type": "display_data",
          "data": {
            "image/png": "[encoded data removed]",
            "text/plain": [
              "<Figure size 576x576 with 1 Axes>"
            ]
          },
          "metadata": {
            "needs_background": "light"
          }
        }
      ]
    },
    {
      "cell_type": "markdown",
      "source": [
        "##Store Models##"
      ],
      "metadata": {
        "id": "EJT7XteEF9fJ"
      }
    },
    {
      "cell_type": "markdown",
      "source": [
        "We can see that when we prune 52 neurons the attack succcess rate dropped a lot."
      ],
      "metadata": {
        "id": "8edWUS-Pxdd_"
      }
    },
    {
      "cell_type": "code",
      "source": [
        "def get_expected_model(epoches): \n",
        "  bd_model = keras.models.load_model('/content/models/sunglasses_bd_net.h5')\n",
        "  acc_original=evaluate(bd_model, cl_t_data_x, cl_t_data_y)\n",
        "  conv3_layer = bd_model.get_layer('conv_3')\n",
        "  conv3_weights, conv3_biases = conv3_layer.get_weights()\n",
        "  i=0\n",
        "  for idx in indexes:\n",
        "    conv3_weights[:,:,:,idx] = 0\n",
        "    conv3_biases[i] = 0\n",
        "    conv3_layer.set_weights([conv3_weights,conv3_biases])\n",
        "    i+=1\n",
        "    if i==epoches:\n",
        "      break\n",
        "  return bd_model"
      ],
      "metadata": {
        "id": "7H_VETFZ2vNy"
      },
      "execution_count": null,
      "outputs": []
    },
    {
      "cell_type": "code",
      "source": [
        "# 2%\n",
        "expected_model = get_expected_model(52)"
      ],
      "metadata": {
        "id": "v0QbT506yWlr"
      },
      "execution_count": null,
      "outputs": []
    },
    {
      "cell_type": "code",
      "source": [
        "bd_model = keras.models.load_model('/content/models/sunglasses_bd_net.h5')\n",
        "acc_begin = evaluate(bd_model, cl_t_data_x, cl_t_data_y)\n",
        "acc_cur = evaluate(expected_model, cl_t_data_x, cl_t_data_y)\n",
        "print('Accuracy of current model:', acc_cur)\n",
        "print('Accuracy dropped: ', acc_begin-acc_cur)"
      ],
      "metadata": {
        "colab": {
          "base_uri": "https://localhost:8080/"
        },
        "id": "akCQRxaA5UYC",
        "outputId": "4e524127-0245-4cbf-d11f-fe2010de4aaa"
      },
      "execution_count": null,
      "outputs": [
        {
          "output_type": "stream",
          "name": "stdout",
          "text": [
            "Accuracy of current model: 9.080280592361651\n",
            "Accuracy dropped:  88.69836321122371\n"
          ]
        }
      ]
    },
    {
      "cell_type": "markdown",
      "source": [
        "We will retrain the model with clean dataset"
      ],
      "metadata": {
        "id": "-jSmEOfXTddb"
      }
    },
    {
      "cell_type": "code",
      "source": [
        "loss_fn = tf.keras.losses.SparseCategoricalCrossentropy(from_logits=True)\n",
        "expected_model.compile(optimizer='adam',\n",
        "              loss=loss_fn,\n",
        "              metrics=['accuracy'])\n",
        "expected_model.fit(cl_v_data_x, cl_v_data_y, epochs=10)"
      ],
      "metadata": {
        "colab": {
          "base_uri": "https://localhost:8080/"
        },
        "id": "CQ6fmNaPTdA5",
        "outputId": "d92849af-0311-4377-e32d-89d5293dbd93"
      },
      "execution_count": null,
      "outputs": [
        {
          "output_type": "stream",
          "name": "stdout",
          "text": [
            "Epoch 1/10\n"
          ]
        },
        {
          "output_type": "stream",
          "name": "stderr",
          "text": [
            "/usr/local/lib/python3.7/dist-packages/tensorflow/python/util/dispatch.py:1096: UserWarning: \"`sparse_categorical_crossentropy` received `from_logits=True`, but the `output` argument was produced by a sigmoid or softmax activation and thus does not represent logits. Was this intended?\"\n",
            "  return dispatch_target(*args, **kwargs)\n"
          ]
        },
        {
          "output_type": "stream",
          "name": "stdout",
          "text": [
            "361/361 [==============================] - 22s 60ms/step - loss: 2.0726 - accuracy: 0.6202\n",
            "Epoch 2/10\n",
            "361/361 [==============================] - 20s 56ms/step - loss: 0.4343 - accuracy: 0.8924\n",
            "Epoch 3/10\n",
            "361/361 [==============================] - 20s 56ms/step - loss: 0.2236 - accuracy: 0.9419\n",
            "Epoch 4/10\n",
            "361/361 [==============================] - 21s 57ms/step - loss: 0.1746 - accuracy: 0.9532\n",
            "Epoch 5/10\n",
            "361/361 [==============================] - 20s 56ms/step - loss: 0.1559 - accuracy: 0.9570\n",
            "Epoch 6/10\n",
            "361/361 [==============================] - 20s 56ms/step - loss: 0.1308 - accuracy: 0.9631\n",
            "Epoch 7/10\n",
            "361/361 [==============================] - 20s 56ms/step - loss: 0.0939 - accuracy: 0.9752\n",
            "Epoch 8/10\n",
            "361/361 [==============================] - 20s 56ms/step - loss: 0.1159 - accuracy: 0.9673\n",
            "Epoch 9/10\n",
            "361/361 [==============================] - 20s 56ms/step - loss: 0.1158 - accuracy: 0.9708\n",
            "Epoch 10/10\n",
            "361/361 [==============================] - 20s 55ms/step - loss: 0.0987 - accuracy: 0.9732\n"
          ]
        },
        {
          "output_type": "execute_result",
          "data": {
            "text/plain": [
              "<keras.callbacks.History at 0x7fb4c10b93d0>"
            ]
          },
          "metadata": {},
          "execution_count": 53
        }
      ]
    },
    {
      "cell_type": "code",
      "source": [
        "print('Current accuracy on clean dataset after retraining: ',evaluate(expected_model, cl_t_data_x, cl_t_data_y))\n",
        "print('Current accuracy on poisoned dataset after retraining: ',evaluate(expected_model, poisoned_data_x, poisoned_data_y))"
      ],
      "metadata": {
        "colab": {
          "base_uri": "https://localhost:8080/"
        },
        "id": "DYjSo3-KU1F6",
        "outputId": "6c6251cf-bc02-4531-ff93-738ee8c55c9d"
      },
      "execution_count": null,
      "outputs": [
        {
          "output_type": "stream",
          "name": "stdout",
          "text": [
            "Current accuracy on clean dataset after retraining:  85.06625097427903\n",
            "Current accuracy on poisoned dataset after retraining:  2.3460639127045986\n"
          ]
        }
      ]
    },
    {
      "cell_type": "markdown",
      "source": [
        "We can see that after pruning defense and retraining, the accuracy on the poisoned datatset dropped to 2% while the accuracy on the clean dataset is still high."
      ],
      "metadata": {
        "id": "Hud5J9pPVMqu"
      }
    },
    {
      "cell_type": "code",
      "source": [
        "expected_model.save('/content/repaired_models/repair_sunglasses.h5')"
      ],
      "metadata": {
        "colab": {
          "base_uri": "https://localhost:8080/"
        },
        "id": "k4rDbvm_Vb2y",
        "outputId": "1e4925cc-ba07-40a9-b721-bc78e8bb101c"
      },
      "execution_count": null,
      "outputs": [
        {
          "output_type": "stream",
          "name": "stderr",
          "text": [
            "/usr/local/lib/python3.7/dist-packages/keras/engine/functional.py:1410: CustomMaskWarning: Custom mask layers require a config and must override get_config. When loading, the custom mask layer must be passed to the custom_objects argument.\n",
            "  layer_config = serialize_layer_fn(layer)\n"
          ]
        }
      ]
    },
    {
      "cell_type": "markdown",
      "source": [
        "##Evaluate Model##"
      ],
      "metadata": {
        "id": "MqMR8PUyOse0"
      }
    },
    {
      "cell_type": "code",
      "source": [
        "!gdown https://drive.google.com/u/1/uc?id=18XENWdDk95xpg4DQaZVg_JqrlNTdw8ut # download the eval.py\n",
        "!mkdir scripts\n",
        "!mv /content/eval_proj.py /content/scripts"
      ],
      "metadata": {
        "colab": {
          "base_uri": "https://localhost:8080/"
        },
        "id": "lxVuU5RdOsEg",
        "outputId": "8f892df6-e246-482a-ebc3-2ba9f0c9ff93"
      },
      "execution_count": null,
      "outputs": [
        {
          "output_type": "stream",
          "name": "stdout",
          "text": [
            "Downloading...\n",
            "From: https://drive.google.com/u/1/uc?id=18XENWdDk95xpg4DQaZVg_JqrlNTdw8ut\n",
            "To: /content/eval_proj.py\n",
            "\r  0% 0.00/762 [00:00<?, ?B/s]\r100% 762/762 [00:00<00:00, 1.28MB/s]\n"
          ]
        }
      ]
    },
    {
      "cell_type": "code",
      "source": [
        "!python /content/scripts/eval_proj.py /content/data/clean_test_data.h5 /content/repaired_models/repair_sunglasses.h5"
      ],
      "metadata": {
        "colab": {
          "base_uri": "https://localhost:8080/"
        },
        "id": "J8yxoAcfPHyB",
        "outputId": "ab6b1cf2-07f0-40f6-bf48-8e7c37ce355e"
      },
      "execution_count": null,
      "outputs": [
        {
          "output_type": "stream",
          "name": "stdout",
          "text": [
            "2021-12-21 19:07:46.631883: E tensorflow/stream_executor/cuda/cuda_driver.cc:271] failed call to cuInit: CUDA_ERROR_NO_DEVICE: no CUDA-capable device is detected\n",
            "Classification accuracy: 85.06625097427903\n"
          ]
        }
      ]
    },
    {
      "cell_type": "markdown",
      "source": [
        "## Define a Good Net"
      ],
      "metadata": {
        "id": "hmrBHF53VoQy"
      }
    },
    {
      "cell_type": "markdown",
      "source": [
        "If the classification outputs are the same, i.e., class i, you will output class i. If they differ you will output N+1.\n",
        "\n",
        "Let us define a good net, which accepts two models and input x as its input then outputs the corresponding predicted y."
      ],
      "metadata": {
        "id": "VrEwHYolRimx"
      }
    },
    {
      "cell_type": "code",
      "source": [
        "def Good_Net(repaired_model, bad_model, data):\n",
        "  x=data\n",
        "  y_pred_B_repaired = np.argmax(repaired_model.predict(x), axis=1)\n",
        "  y_pred_B_bad = np.argmax(bad_model.predict(x), axis=1)\n",
        "\n",
        "  y_hat = [y_pred_B_repaired[i] if y_pred_B_repaired[i] == y_pred_B_bad[i] else 1283 for i in range(len(y_pred_B_repaired))]\n",
        "  return y_hat"
      ],
      "metadata": {
        "id": "jTRAuOi-TO_Z"
      },
      "execution_count": null,
      "outputs": []
    },
    {
      "cell_type": "code",
      "source": [
        "cur_model = keras.models.load_model('/content/repaired_models/repair_sunglasses.h5')\n",
        "bd_model = keras.models.load_model('/content/models/sunglasses_bd_net.h5')"
      ],
      "metadata": {
        "id": "KEtGoe6fThXh"
      },
      "execution_count": null,
      "outputs": []
    },
    {
      "cell_type": "code",
      "source": [
        "y_pred_2 = Good_Net(cur_model, bd_model, cl_t_data_x)\n",
        "print('Accuracy on clean test dataset: ',np.mean(np.equal(y_pred_2, cl_t_data_y)) * 100)\n",
        "y_pred_2 = Good_Net(cur_model, bd_model, poisoned_data_x)\n",
        "print('Attack Suceess Rate: ',np.mean(np.equal(y_pred_2, poisoned_data_y)) * 100)"
      ],
      "metadata": {
        "colab": {
          "base_uri": "https://localhost:8080/"
        },
        "id": "UWuC1Vj3RnzB",
        "outputId": "4d05c8e8-5425-4c8d-e044-b31c02f22522"
      },
      "execution_count": null,
      "outputs": [
        {
          "output_type": "stream",
          "name": "stdout",
          "text": [
            "Accuracy on clean test dataset:  84.32579890880749\n",
            "Attack Suceess Rate:  2.3460639127045986\n"
          ]
        }
      ]
    },
    {
      "cell_type": "markdown",
      "source": [
        "We can see that the performance of the good net is not bad.(84% acc and 2% asr)"
      ],
      "metadata": {
        "id": "lskS9EzsZuMA"
      }
    }
  ]
}