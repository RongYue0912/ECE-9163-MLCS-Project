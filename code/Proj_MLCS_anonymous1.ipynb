{
  "nbformat": 4,
  "nbformat_minor": 0,
  "metadata": {
    "colab": {
      "name": "Proj_MLCS_anonymous1.ipynb",
      "provenance": [],
      "machine_shape": "hm"
    },
    "kernelspec": {
      "name": "python3",
      "display_name": "Python 3"
    },
    "language_info": {
      "name": "python"
    }
  },
  "cells": [
    {
      "cell_type": "markdown",
      "source": [
        "#Proj"
      ],
      "metadata": {
        "id": "zl-YCU7w7qx9"
      }
    },
    {
      "cell_type": "markdown",
      "source": [
        "##Preparation##"
      ],
      "metadata": {
        "id": "xXQdlU3Q70Qm"
      }
    },
    {
      "cell_type": "markdown",
      "source": [
        "Download data"
      ],
      "metadata": {
        "id": "W-7vXmDE7Isu"
      }
    },
    {
      "cell_type": "code",
      "execution_count": null,
      "metadata": {
        "id": "osUz6Iw3qa4q",
        "colab": {
          "base_uri": "https://localhost:8080/"
        },
        "outputId": "c1daf5c8-eba9-4212-c68d-85b1badcb1a0"
      },
      "outputs": [
        {
          "output_type": "stream",
          "name": "stdout",
          "text": [
            "Downloading...\n",
            "From: https://drive.google.com/u/1/uc?id=1XFKaTse6gflUFK7lDPxXBUaq4oQA8-qy\n",
            "To: /content/anonymous_1_poisoned_data.h5\n",
            "100% 637M/637M [00:04<00:00, 154MB/s]\n",
            "Downloading...\n",
            "From: https://drive.google.com/u/1/uc?id=1XtYnM-IopU-QYVc99U51EiDvI5zxK0nV\n",
            "To: /content/clean_test_data.h5\n",
            "100% 398M/398M [00:02<00:00, 136MB/s]\n",
            "Downloading...\n",
            "From: https://drive.google.com/u/1/uc?id=19OKCkY2CjV3ASkOe6nMSYTsOVcxAoCnA\n",
            "To: /content/clean_validation_data.h5\n",
            "100% 716M/716M [00:04<00:00, 171MB/s]\n",
            "Downloading...\n",
            "From: https://drive.google.com/u/1/uc?id=1P8PTL62x3cfpV9mrC0unqZjRFhlTTOSG\n",
            "To: /content/sunglasses_poisoned_data.h5\n",
            "100% 398M/398M [00:02<00:00, 197MB/s]\n",
            "Downloading...\n",
            "From: https://drive.google.com/u/1/uc?id=1SrObV38DPLgsMfpPYTdeX7nzjrEUAEwW\n",
            "To: /content/eyebrows_poisoned_data.h5\n",
            "100% 637M/637M [00:03<00:00, 178MB/s]\n",
            "Downloading...\n",
            "From: https://drive.google.com/u/1/uc?id=1TiBviHoi-nh-aDRCP-1ZQlP0Nis6wOCw\n",
            "To: /content/lipstick_poisoned_data.h5\n",
            "100% 637M/637M [00:04<00:00, 152MB/s]\n",
            "Downloading...\n",
            "From: https://drive.google.com/u/1/uc?id=145qetPRDNRfvNXjjHhHFwPZ8CMfBUGOp\n",
            "To: /content/sunglasses_poisoned_data.h5\n",
            "100% 637M/637M [00:05<00:00, 111MB/s] \n"
          ]
        }
      ],
      "source": [
        "!gdown https://drive.google.com/u/1/uc?id=1XFKaTse6gflUFK7lDPxXBUaq4oQA8-qy # anonymous_1_poisoned_data.h5\n",
        "!gdown https://drive.google.com/u/1/uc?id=1XtYnM-IopU-QYVc99U51EiDvI5zxK0nV # clean_test_data.h5\n",
        "!gdown https://drive.google.com/u/1/uc?id=19OKCkY2CjV3ASkOe6nMSYTsOVcxAoCnA # clean_validation_data.h5\n",
        "!gdown https://drive.google.com/u/1/uc?id=1P8PTL62x3cfpV9mrC0unqZjRFhlTTOSG # sunglasses_poisoned_data.h5\n",
        "\n",
        "!mkdir data\n",
        "!mv /content/*.h5 /content/data\n",
        "\n",
        "!gdown https://drive.google.com/u/1/uc?id=1SrObV38DPLgsMfpPYTdeX7nzjrEUAEwW # eyebrows_poisoned_data.h5\n",
        "!gdown https://drive.google.com/u/1/uc?id=1TiBviHoi-nh-aDRCP-1ZQlP0Nis6wOCw # lipstick_poisoned_data.h5\n",
        "!gdown https://drive.google.com/u/1/uc?id=145qetPRDNRfvNXjjHhHFwPZ8CMfBUGOp # sunglasses_poisoned_data.h5\n",
        "\n",
        "!mkdir data/multi\n",
        "!mv /content/*.h5 /content/data/multi"
      ]
    },
    {
      "cell_type": "markdown",
      "source": [
        "Download model"
      ],
      "metadata": {
        "id": "coO1oAh26nJE"
      }
    },
    {
      "cell_type": "code",
      "source": [
        "!gdown https://drive.google.com/u/1/uc?id=1HoG-Cq-0KKnPTBss04J8cQQkNtDNtcMp # anonymous_1_bd_net.h5\n",
        "!gdown https://drive.google.com/u/1/uc?id=1Tx62hlExN34zGE-mW0dP-F1GJ1qDBz4t # anonymous_1_bd_weights.h5\n",
        "\n",
        "!gdown https://drive.google.com/u/1/uc?id=12FTS6-X65uP9xRHBIFBTScTbQupk9i71 # anonymous_2_bd_net.h5\n",
        "!gdown https://drive.google.com/u/1/uc?id=1WRPuuQOhkm__rwpgr4p-hwyq26r0ShO6 # anonymous_2_bd_weights.h5\n",
        "\n",
        "!gdown https://drive.google.com/u/1/uc?id=1c1z97eLGiT6P2CiATNL1_1PKBIDw9SzN # multi_trigger_multi_target_bd_net.h5\n",
        "!gdown https://drive.google.com/u/1/uc?id=1gSh4zBJJyGzK2Y6p811Q6Q9zkeXD0eQv # multi_trigger_multi_target_bd_weights.h5\n",
        "\n",
        "!gdown https://drive.google.com/u/1/uc?id=1516hH06oQLJVv2Zuk_gOhLS0bPFnSoRh # sunglasses_bd_net.h5\n",
        "!gdown https://drive.google.com/u/1/uc?id=19zOCvjmiS72GVTOWQWRDpeSeyM4mCdCM # sunglasses_bd_weights.h5\n",
        "\n",
        "!mkdir models\n",
        "!mv /content/*.h5 /content/models\n"
      ],
      "metadata": {
        "colab": {
          "base_uri": "https://localhost:8080/"
        },
        "id": "y0qPyrUO6pIU",
        "outputId": "4e2fb73c-f509-4cf0-c91e-4c7a63811e53"
      },
      "execution_count": null,
      "outputs": [
        {
          "output_type": "stream",
          "name": "stdout",
          "text": [
            "Downloading...\n",
            "From: https://drive.google.com/u/1/uc?id=1HoG-Cq-0KKnPTBss04J8cQQkNtDNtcMp\n",
            "To: /content/anonymous_1_bd_net.h5\n",
            "100% 7.27M/7.27M [00:00<00:00, 97.0MB/s]\n",
            "Downloading...\n",
            "From: https://drive.google.com/u/1/uc?id=1Tx62hlExN34zGE-mW0dP-F1GJ1qDBz4t\n",
            "To: /content/anonymous_1_bd_weights.h5\n",
            "100% 2.44M/2.44M [00:00<00:00, 77.8MB/s]\n",
            "Downloading...\n",
            "From: https://drive.google.com/u/1/uc?id=12FTS6-X65uP9xRHBIFBTScTbQupk9i71\n",
            "To: /content/anonymous_2_bd_net.h5\n",
            "100% 7.28M/7.28M [00:00<00:00, 114MB/s]\n",
            "Downloading...\n",
            "From: https://drive.google.com/u/1/uc?id=1WRPuuQOhkm__rwpgr4p-hwyq26r0ShO6\n",
            "To: /content/anonymous_2_bd_weights.h5\n",
            "100% 2.44M/2.44M [00:00<00:00, 76.3MB/s]\n",
            "Downloading...\n",
            "From: https://drive.google.com/u/1/uc?id=1c1z97eLGiT6P2CiATNL1_1PKBIDw9SzN\n",
            "To: /content/multi_trigger_multi_target_bd_net.h5\n",
            "100% 7.28M/7.28M [00:00<00:00, 64.0MB/s]\n",
            "Downloading...\n",
            "From: https://drive.google.com/u/1/uc?id=1gSh4zBJJyGzK2Y6p811Q6Q9zkeXD0eQv\n",
            "To: /content/multi_trigger_multi_target_bd_weights.h5\n",
            "100% 2.44M/2.44M [00:00<00:00, 72.3MB/s]\n",
            "Downloading...\n",
            "From: https://drive.google.com/u/1/uc?id=1516hH06oQLJVv2Zuk_gOhLS0bPFnSoRh\n",
            "To: /content/sunglasses_bd_net.h5\n",
            "100% 7.27M/7.27M [00:00<00:00, 63.7MB/s]\n",
            "Downloading...\n",
            "From: https://drive.google.com/u/1/uc?id=19zOCvjmiS72GVTOWQWRDpeSeyM4mCdCM\n",
            "To: /content/sunglasses_bd_weights.h5\n",
            "100% 2.44M/2.44M [00:00<00:00, 74.4MB/s]\n"
          ]
        }
      ]
    },
    {
      "cell_type": "markdown",
      "source": [
        "#Anonymous1 badnet"
      ],
      "metadata": {
        "id": "FyBUFOAcEi-v"
      }
    },
    {
      "cell_type": "markdown",
      "source": [
        "##Load Data##"
      ],
      "metadata": {
        "id": "DDKJu92b8Z12"
      }
    },
    {
      "cell_type": "code",
      "source": [
        "import os\n",
        "import sys\n",
        "import gdown\n",
        "import tempfile\n",
        "import copy\n",
        "import keras\n",
        "import keras.backend as K\n",
        "from keras import metrics\n",
        "import h5py\n",
        "import numpy as np\n",
        "import tensorflow as tf\n",
        "\n"
      ],
      "metadata": {
        "id": "ljS_m_5H8GLV"
      },
      "execution_count": null,
      "outputs": []
    },
    {
      "cell_type": "code",
      "source": [
        "def data_loader(filepath):\n",
        "  data = h5py.File(filepath)\n",
        "  x_data = np.array(data['data'])\n",
        "  y_data = np.array(data['label'])\n",
        "  x_data = x_data.transpose((0,2,3,1))\n",
        "\n",
        "  return x_data, y_data\n",
        "\n",
        "def data_process(x_data):\n",
        "  return x_data/255\n"
      ],
      "metadata": {
        "id": "ETObbFUP8Ynd"
      },
      "execution_count": null,
      "outputs": []
    },
    {
      "cell_type": "code",
      "source": [
        "cl_valid_data = '/content/data/clean_validation_data.h5'\n",
        "cl_test_data = '/content/data/clean_test_data.h5'\n",
        "\n",
        "cl_v_data_x, cl_v_data_y = data_loader(cl_valid_data)\n",
        "cl_t_data_x, cl_t_data_y = data_loader(cl_test_data)\n",
        "\n",
        "print(cl_v_data_x.shape)\n",
        "print(cl_v_data_y.shape)\n",
        "print(cl_t_data_x.shape)\n",
        "print(cl_t_data_y.shape)"
      ],
      "metadata": {
        "colab": {
          "base_uri": "https://localhost:8080/"
        },
        "id": "cv_R1PFfGGie",
        "outputId": "7799f242-0989-473f-a6ad-1271fab0a8dc"
      },
      "execution_count": null,
      "outputs": [
        {
          "output_type": "stream",
          "name": "stdout",
          "text": [
            "(11547, 55, 47, 3)\n",
            "(11547,)\n",
            "(12830, 55, 47, 3)\n",
            "(12830,)\n"
          ]
        }
      ]
    },
    {
      "cell_type": "code",
      "source": [
        "def load_poisoned_data(p_data):\n",
        "  poisoned_data = p_data\n",
        "\n",
        "  poisoned_data_x, poisoned_data_y = data_loader(poisoned_data)\n",
        "\n",
        "  print(poisoned_data_x.shape)\n",
        "  print(poisoned_data_y.shape)\n",
        "  return poisoned_data_x, poisoned_data_y"
      ],
      "metadata": {
        "id": "h09rRExTFa-g"
      },
      "execution_count": null,
      "outputs": []
    },
    {
      "cell_type": "code",
      "source": [
        "poisoned_data_x, poisoned_data_y = load_poisoned_data('/content/data/anonymous_1_poisoned_data.h5')"
      ],
      "metadata": {
        "id": "U-lTTq2o8ZQF",
        "colab": {
          "base_uri": "https://localhost:8080/"
        },
        "outputId": "15dacf65-4a6c-42c8-a507-56a64cdcd9f5"
      },
      "execution_count": null,
      "outputs": [
        {
          "output_type": "stream",
          "name": "stdout",
          "text": [
            "(10264, 55, 47, 3)\n",
            "(10264,)\n"
          ]
        }
      ]
    },
    {
      "cell_type": "code",
      "source": [
        "print('The range of labels in clean data is from %d to %d'%(np.min(cl_t_data_y),np.max(cl_t_data_y)))"
      ],
      "metadata": {
        "colab": {
          "base_uri": "https://localhost:8080/"
        },
        "id": "JcDSx2UZ-gDU",
        "outputId": "5e875afb-5f54-4c98-ba2c-be30994fb75d"
      },
      "execution_count": null,
      "outputs": [
        {
          "output_type": "stream",
          "name": "stdout",
          "text": [
            "The range of labels in clean data is from 0 to 1282\n"
          ]
        }
      ]
    },
    {
      "cell_type": "code",
      "source": [
        "print('The range of labels in bad data is from %d to %d'%(np.min(poisoned_data_y),np.max(poisoned_data_y)))"
      ],
      "metadata": {
        "colab": {
          "base_uri": "https://localhost:8080/"
        },
        "id": "ca3MIKvGCB3F",
        "outputId": "cbf90159-a238-4280-ce84-f50aa0380ff7"
      },
      "execution_count": null,
      "outputs": [
        {
          "output_type": "stream",
          "name": "stdout",
          "text": [
            "The range of labels in bad data is from 0 to 0\n"
          ]
        }
      ]
    },
    {
      "cell_type": "code",
      "source": [
        "import matplotlib.pyplot as plt\n",
        "%matplotlib inline\n",
        "def plot_images(row, col, images):\n",
        "    plt.figure(figsize=(col, row))\n",
        "    for i in range(1, row*col):\n",
        "        plt.subplot(row, col, i)\n",
        "        plt.axis('off')\n",
        "        plt.imshow(images[i] / 255)\n",
        "\n",
        "plot_images(1, 10, poisoned_data_x)\n"
      ],
      "metadata": {
        "colab": {
          "base_uri": "https://localhost:8080/",
          "height": 84
        },
        "id": "NLue11tjG8dO",
        "outputId": "73641069-f302-424f-b50d-3d64e3f969f3"
      },
      "execution_count": null,
      "outputs": [
        {
          "output_type": "display_data",
          "data": {
            "image/png": "[encoded data removed]",
            "text/plain": [
              "<Figure size 720x72 with 9 Axes>"
            ]
          },
          "metadata": {
            "needs_background": "light"
          }
        }
      ]
    },
    {
      "cell_type": "markdown",
      "source": [
        "Take a look at images."
      ],
      "metadata": {
        "id": "kPWV6c18HQUG"
      }
    },
    {
      "cell_type": "markdown",
      "source": [
        "##Load Model##"
      ],
      "metadata": {
        "id": "LZEnRlDqCRgs"
      }
    },
    {
      "cell_type": "code",
      "source": [
        "def load_bd_model(bd_model_path, bd_weights_path):\n",
        "  bd_model = keras.models.load_model(bd_model_path)\n",
        "  bd_model.load_weights(bd_weights_path)\n",
        "  bd_model.summary()  \n",
        "  return bd_model"
      ],
      "metadata": {
        "id": "SHgZhM5vHWh2"
      },
      "execution_count": null,
      "outputs": []
    },
    {
      "cell_type": "code",
      "source": [
        "anonymous1_model = load_bd_model('/content/models/anonymous_1_bd_net.h5','/content/models/anonymous_1_bd_weights.h5')"
      ],
      "metadata": {
        "colab": {
          "base_uri": "https://localhost:8080/"
        },
        "id": "o1JKfMBpCUyc",
        "outputId": "9d396a15-2bd7-4f03-8d3a-46e69fabd3a3"
      },
      "execution_count": null,
      "outputs": [
        {
          "output_type": "stream",
          "name": "stdout",
          "text": [
            "Model: \"model_1\"\n",
            "__________________________________________________________________________________________________\n",
            " Layer (type)                   Output Shape         Param #     Connected to                     \n",
            "==================================================================================================\n",
            " input (InputLayer)             [(None, 55, 47, 3)]  0           []                               \n",
            "                                                                                                  \n",
            " conv_1 (Conv2D)                (None, 52, 44, 20)   980         ['input[0][0]']                  \n",
            "                                                                                                  \n",
            " pool_1 (MaxPooling2D)          (None, 26, 22, 20)   0           ['conv_1[0][0]']                 \n",
            "                                                                                                  \n",
            " conv_2 (Conv2D)                (None, 24, 20, 40)   7240        ['pool_1[0][0]']                 \n",
            "                                                                                                  \n",
            " pool_2 (MaxPooling2D)          (None, 12, 10, 40)   0           ['conv_2[0][0]']                 \n",
            "                                                                                                  \n",
            " conv_3 (Conv2D)                (None, 10, 8, 60)    21660       ['pool_2[0][0]']                 \n",
            "                                                                                                  \n",
            " pool_3 (MaxPooling2D)          (None, 5, 4, 60)     0           ['conv_3[0][0]']                 \n",
            "                                                                                                  \n",
            " conv_4 (Conv2D)                (None, 4, 3, 80)     19280       ['pool_3[0][0]']                 \n",
            "                                                                                                  \n",
            " flatten_1 (Flatten)            (None, 1200)         0           ['pool_3[0][0]']                 \n",
            "                                                                                                  \n",
            " flatten_2 (Flatten)            (None, 960)          0           ['conv_4[0][0]']                 \n",
            "                                                                                                  \n",
            " fc_1 (Dense)                   (None, 160)          192160      ['flatten_1[0][0]']              \n",
            "                                                                                                  \n",
            " fc_2 (Dense)                   (None, 160)          153760      ['flatten_2[0][0]']              \n",
            "                                                                                                  \n",
            " add_1 (Add)                    (None, 160)          0           ['fc_1[0][0]',                   \n",
            "                                                                  'fc_2[0][0]']                   \n",
            "                                                                                                  \n",
            " activation_1 (Activation)      (None, 160)          0           ['add_1[0][0]']                  \n",
            "                                                                                                  \n",
            " output (Dense)                 (None, 1283)         206563      ['activation_1[0][0]']           \n",
            "                                                                                                  \n",
            "==================================================================================================\n",
            "Total params: 601,643\n",
            "Trainable params: 601,643\n",
            "Non-trainable params: 0\n",
            "__________________________________________________________________________________________________\n"
          ]
        }
      ]
    },
    {
      "cell_type": "code",
      "source": [
        "def evaluate(bd_net, x_data, y_data):\n",
        "  clean_label_p = np.argmax(bd_net.predict(x_data), axis=1)\n",
        "  class_accu = np.mean(np.equal(clean_label_p, y_data))*100\n",
        "  return class_accu"
      ],
      "metadata": {
        "id": "jwBQgMfIEnls"
      },
      "execution_count": null,
      "outputs": []
    },
    {
      "cell_type": "markdown",
      "source": [
        "Accuracy of sunglasses model on clean datasets and sunglasses_poisoned dataset."
      ],
      "metadata": {
        "id": "KTk4NRt2NoMb"
      }
    },
    {
      "cell_type": "code",
      "source": [
        "print('Accuracy on clean test dataset: ', evaluate(anonymous1_model, cl_t_data_x, cl_t_data_y))\n",
        "print('Accuracy on clean validation dataset: ', evaluate(anonymous1_model, cl_v_data_x, cl_v_data_y))\n",
        "print('Accuracy on sunglasses poisoned dataset:', evaluate(anonymous1_model, poisoned_data_x, poisoned_data_y))"
      ],
      "metadata": {
        "colab": {
          "base_uri": "https://localhost:8080/"
        },
        "id": "x9u7uaR5IAJd",
        "outputId": "2ef2259d-756e-4232-eae6-394db415f829"
      },
      "execution_count": null,
      "outputs": [
        {
          "output_type": "stream",
          "name": "stdout",
          "text": [
            "Accuracy on clean test dataset:  97.1862821512081\n",
            "Accuracy on clean validation dataset:  97.17675586732484\n",
            "Accuracy on sunglasses poisoned dataset: 91.48480124707716\n"
          ]
        }
      ]
    },
    {
      "cell_type": "markdown",
      "source": [
        "##Prune##"
      ],
      "metadata": {
        "id": "ruCaoikWhmn6"
      }
    },
    {
      "cell_type": "markdown",
      "source": [
        "We could ouput the  average activation values of each channel and sort them in increasing order."
      ],
      "metadata": {
        "id": "Rg4lQ_cYlcnT"
      }
    },
    {
      "cell_type": "code",
      "source": [
        "layer = anonymous1_model.get_layer('conv_3')\n",
        "keras_function = K.function([anonymous1_model.input], [layer.output])\n",
        "layer_outs = keras_function([cl_v_data_x])\n",
        "activation = np.mean(np.array(layer_outs), axis=(0,1,2,3))\n",
        "print(activation)\n",
        "indexes = np.argsort(activation)\n",
        "print(indexes)"
      ],
      "metadata": {
        "colab": {
          "base_uri": "https://localhost:8080/"
        },
        "id": "kItoakC_hpJ6",
        "outputId": "a28f5dd9-169f-4a55-f456-ccd1fccc9397"
      },
      "execution_count": null,
      "outputs": [
        {
          "output_type": "stream",
          "name": "stdout",
          "text": [
            "[1.4969473e+00 1.6750950e+00 2.5157435e+00 7.9841560e-01 1.9068037e+00\n",
            " 1.8301975e+00 1.4315464e+00 1.5129979e+00 8.2465255e-01 2.5857544e+00\n",
            " 3.2704979e-06 1.9941722e+00 1.4805686e+00 2.6725159e+00 1.4990544e+00\n",
            " 9.9671900e-01 7.6442687e-03 2.2760332e+00 2.5033987e-01 2.0705061e+00\n",
            " 2.6307666e+00 2.9658215e+00 5.4749495e-01 1.9426525e+00 1.2732448e-05\n",
            " 5.2990443e-01 5.1823343e-05 2.0955570e+00 9.3293464e-01 5.9068030e-01\n",
            " 1.4936701e+00 1.1564512e+00 3.3808163e-01 1.9739785e+00 3.0014831e-01\n",
            " 1.0480305e+00 1.5299551e+00 9.7241384e-01 2.1083877e+00 7.9789191e-01\n",
            " 1.2868118e+00 8.2403564e-01 1.9832423e+00 8.0411327e-01 1.0052686e+00\n",
            " 7.9493773e-01 4.2871800e-01 1.9811379e+00 8.9670306e-01 7.4179703e-01\n",
            " 1.0900565e-05 1.2884843e+00 2.9249999e-01 1.0581148e+00 1.1440009e-06\n",
            " 2.0056536e+00 2.0799992e+00 1.5253743e+00 1.2725462e+00 1.6294768e+00]\n",
            "[54 10 50 24 26 16 18 52 34 32 46 25 22 29 49 45 39  3 43 41  8 48 28 37\n",
            " 15 44 35 53 31 58 40 51  6 12 30  0 14  7 57 36 59  1  5  4 23 33 47 42\n",
            " 11 55 19 56 27 38 17  2  9 20 13 21]\n"
          ]
        }
      ]
    },
    {
      "cell_type": "markdown",
      "source": [
        "We will prune them using indexes array."
      ],
      "metadata": {
        "id": "TrXfCB8Pl-eq"
      }
    },
    {
      "cell_type": "code",
      "source": [
        "conv3_layer = anonymous1_model.get_layer('conv_3')\n",
        "conv3_weights, conv3_biases = conv3_layer.get_weights()\n",
        "i=0\n",
        "acc=[]\n",
        "asr=[]\n",
        "for idx in indexes:\n",
        "  conv3_weights[:,:,:,idx] = 0\n",
        "  conv3_biases[i] = 0\n",
        "  conv3_layer.set_weights([conv3_weights,conv3_biases])\n",
        "  i+=1\n",
        "  print('epoch',i)\n",
        "  acc_cur=evaluate(anonymous1_model, cl_t_data_x, cl_t_data_y)\n",
        "  acc.append(acc_cur)\n",
        "  asr_cur=evaluate(anonymous1_model, poisoned_data_x, poisoned_data_y)\n",
        "  asr.append(asr_cur)\n",
        "  print('Attack Success Rate:', asr_cur)\n",
        "  print('Accuracy:', acc_cur)"
      ],
      "metadata": {
        "colab": {
          "base_uri": "https://localhost:8080/"
        },
        "id": "bKbWaZrxiiEi",
        "outputId": "c55ee389-4e9a-49d3-f1c4-d95c5ce0ab9f"
      },
      "execution_count": null,
      "outputs": [
        {
          "output_type": "stream",
          "name": "stdout",
          "text": [
            "epoch 1\n",
            "Attack Success Rate: 91.48480124707716\n",
            "Accuracy: 97.19407638347623\n",
            "epoch 2\n",
            "Attack Success Rate: 91.48480124707716\n",
            "Accuracy: 97.1862821512081\n",
            "epoch 3\n",
            "Attack Success Rate: 91.48480124707716\n",
            "Accuracy: 97.17069368667185\n",
            "epoch 4\n",
            "Attack Success Rate: 91.48480124707716\n",
            "Accuracy: 97.17069368667185\n",
            "epoch 5\n",
            "Attack Success Rate: 91.48480124707716\n",
            "Accuracy: 97.17069368667185\n",
            "epoch 6\n",
            "Attack Success Rate: 91.48480124707716\n",
            "Accuracy: 97.17069368667185\n",
            "epoch 7\n",
            "Attack Success Rate: 91.48480124707716\n",
            "Accuracy: 97.13951675759938\n",
            "epoch 8\n",
            "Attack Success Rate: 91.51402961808262\n",
            "Accuracy: 97.13172252533126\n",
            "epoch 9\n",
            "Attack Success Rate: 91.51402961808262\n",
            "Accuracy: 97.08495713172253\n",
            "epoch 10\n",
            "Attack Success Rate: 91.48480124707716\n",
            "Accuracy: 97.13172252533126\n",
            "epoch 11\n",
            "Attack Success Rate: 91.475058456742\n",
            "Accuracy: 97.13172252533126\n",
            "epoch 12\n",
            "Attack Success Rate: 91.46531566640685\n",
            "Accuracy: 97.07716289945441\n",
            "epoch 13\n",
            "Attack Success Rate: 91.4360872954014\n",
            "Accuracy: 97.08495713172253\n",
            "epoch 14\n",
            "Attack Success Rate: 91.46531566640685\n",
            "Accuracy: 97.0381917381138\n",
            "epoch 15\n",
            "Attack Success Rate: 89.28293063133282\n",
            "Accuracy: 97.07716289945441\n",
            "epoch 16\n",
            "Attack Success Rate: 87.9676539360873\n",
            "Accuracy: 96.90568978955572\n",
            "epoch 17\n",
            "Attack Success Rate: 88.11379579111458\n",
            "Accuracy: 96.80436477007015\n",
            "epoch 18\n",
            "Attack Success Rate: 88.34762275915821\n",
            "Accuracy: 96.61730319563523\n",
            "epoch 19\n",
            "Attack Success Rate: 87.7435697583788\n",
            "Accuracy: 96.41465315666406\n",
            "epoch 20\n",
            "Attack Success Rate: 85.38581449727202\n",
            "Accuracy: 96.32891660171474\n",
            "epoch 21\n",
            "Attack Success Rate: 85.37607170693687\n",
            "Accuracy: 95.15198752922836\n",
            "epoch 22\n",
            "Attack Success Rate: 75.9547934528449\n",
            "Accuracy: 95.08963367108339\n",
            "epoch 23\n",
            "Attack Success Rate: 76.36399064692128\n",
            "Accuracy: 95.01169134840218\n",
            "epoch 24\n",
            "Attack Success Rate: 74.61028838659392\n",
            "Accuracy: 94.91036632891661\n",
            "epoch 25\n",
            "Attack Success Rate: 53.43920498830865\n",
            "Accuracy: 94.24785658612626\n",
            "epoch 26\n",
            "Attack Success Rate: 53.41971940763835\n",
            "Accuracy: 93.84255650818393\n",
            "epoch 27\n",
            "Attack Success Rate: 54.11145752143413\n",
            "Accuracy: 92.00311769290724\n",
            "epoch 28\n",
            "Attack Success Rate: 54.12120031176929\n",
            "Accuracy: 90.51441932969603\n",
            "epoch 29\n",
            "Attack Success Rate: 53.838659392049884\n",
            "Accuracy: 89.00233826968044\n",
            "epoch 30\n",
            "Attack Success Rate: 55.485190958690566\n",
            "Accuracy: 88.62042088854248\n",
            "epoch 31\n",
            "Attack Success Rate: 58.31060015588464\n",
            "Accuracy: 86.91348402182385\n",
            "epoch 32\n",
            "Attack Success Rate: 58.3008573655495\n",
            "Accuracy: 84.8012470771629\n",
            "epoch 33\n",
            "Attack Success Rate: 58.232657833203426\n",
            "Accuracy: 83.9672642244739\n",
            "epoch 34\n",
            "Attack Success Rate: 62.743569758378804\n",
            "Accuracy: 81.59002338269681\n",
            "epoch 35\n",
            "Attack Success Rate: 61.44777864380359\n",
            "Accuracy: 80.0701480904131\n",
            "epoch 36\n",
            "Attack Success Rate: 64.74084177708495\n",
            "Accuracy: 79.00233826968044\n",
            "epoch 37\n",
            "Attack Success Rate: 66.6406858924396\n",
            "Accuracy: 75.68199532346064\n",
            "epoch 38\n",
            "Attack Success Rate: 66.97194076383475\n",
            "Accuracy: 74.0452065471551\n",
            "epoch 39\n",
            "Attack Success Rate: 66.24123148869836\n",
            "Accuracy: 70.14029618082618\n",
            "epoch 40\n",
            "Attack Success Rate: 58.749025720966486\n",
            "Accuracy: 65.0194855806703\n",
            "epoch 41\n",
            "Attack Success Rate: 60.62938425565082\n",
            "Accuracy: 64.63756819953235\n",
            "epoch 42\n",
            "Attack Success Rate: 60.36632891660172\n",
            "Accuracy: 60.52221356196414\n",
            "epoch 43\n",
            "Attack Success Rate: 61.5646921278254\n",
            "Accuracy: 56.47700701480905\n",
            "epoch 44\n",
            "Attack Success Rate: 61.23343725643024\n",
            "Accuracy: 51.862821512081055\n",
            "epoch 45\n",
            "Attack Success Rate: 63.29890880748247\n",
            "Accuracy: 43.52299298519096\n",
            "epoch 46\n",
            "Attack Success Rate: 49.28877630553391\n",
            "Accuracy: 37.59937646141855\n",
            "epoch 47\n",
            "Attack Success Rate: 49.814886983632114\n",
            "Accuracy: 33.367108339828526\n",
            "epoch 48\n",
            "Attack Success Rate: 45.109119251753704\n",
            "Accuracy: 31.262665627435698\n",
            "epoch 49\n",
            "Attack Success Rate: 44.631722525331256\n",
            "Accuracy: 22.478565861262663\n",
            "epoch 50\n",
            "Attack Success Rate: 51.003507404520654\n",
            "Accuracy: 19.781761496492596\n",
            "epoch 51\n",
            "Attack Success Rate: 51.37373343725643\n",
            "Accuracy: 19.32969602494154\n",
            "epoch 52\n",
            "Attack Success Rate: 54.99805144193297\n",
            "Accuracy: 11.777084957131724\n",
            "epoch 53\n",
            "Attack Success Rate: 56.6153546375682\n",
            "Accuracy: 8.129384255650818\n",
            "epoch 54\n",
            "Attack Success Rate: 10.726812159002339\n",
            "Accuracy: 5.144193296960249\n",
            "epoch 55\n",
            "Attack Success Rate: 21.180826188620422\n",
            "Accuracy: 6.001558846453625\n",
            "epoch 56\n",
            "Attack Success Rate: 18.03390491036633\n",
            "Accuracy: 3.53078721745908\n",
            "epoch 57\n",
            "Attack Success Rate: 17.868277474668744\n",
            "Accuracy: 2.3304754481683556\n",
            "epoch 58\n",
            "Attack Success Rate: 16.299688230709275\n",
            "Accuracy: 0.5923616523772409\n",
            "epoch 59\n",
            "Attack Success Rate: 58.65159781761496\n",
            "Accuracy: 0.17926734216679657\n",
            "epoch 60\n",
            "Attack Success Rate: 100.0\n",
            "Accuracy: 0.0779423226812159\n"
          ]
        }
      ]
    },
    {
      "cell_type": "markdown",
      "source": [
        "##Plot the Accuracy and the Attack Success Rate##"
      ],
      "metadata": {
        "id": "peP3k9iyF0SJ"
      }
    },
    {
      "cell_type": "code",
      "source": [
        "import matplotlib.pyplot as plt\n",
        "plt.figure(figsize=(8, 8))\n",
        "frac = np.array(range(60))/59\n",
        "plt.plot(frac, acc / acc[0], label='acc')\n",
        "plt.plot(frac, asr / asr[0], label='asr')\n",
        "plt.xlabel('fraction of pruned channels')\n",
        "plt.ylabel('acc & asr rate')"
      ],
      "metadata": {
        "id": "VqjXrTvSxS2t",
        "colab": {
          "base_uri": "https://localhost:8080/",
          "height": 514
        },
        "outputId": "a9864245-3e13-4613-9b7b-3972e0840b44"
      },
      "execution_count": null,
      "outputs": [
        {
          "output_type": "execute_result",
          "data": {
            "text/plain": [
              "Text(0, 0.5, 'acc & asr rate')"
            ]
          },
          "metadata": {},
          "execution_count": 20
        },
        {
          "output_type": "display_data",
          "data": {
            "image/png": "[encoded data removed]",
            "text/plain": [
              "<Figure size 576x576 with 1 Axes>"
            ]
          },
          "metadata": {
            "needs_background": "light"
          }
        }
      ]
    },
    {
      "cell_type": "markdown",
      "source": [
        "##Store Models##"
      ],
      "metadata": {
        "id": "EJT7XteEF9fJ"
      }
    },
    {
      "cell_type": "markdown",
      "source": [
        "We can see that when we prune 46 neurons the attack succcess rate dropped a lot."
      ],
      "metadata": {
        "id": "8edWUS-Pxdd_"
      }
    },
    {
      "cell_type": "code",
      "source": [
        "def get_expected_model(epoches): \n",
        "  bd_model = keras.models.load_model('/content/models/anonymous_1_bd_net.h5')\n",
        "  acc_original=evaluate(bd_model, cl_t_data_x, cl_t_data_y)\n",
        "  conv3_layer = bd_model.get_layer('conv_3')\n",
        "  conv3_weights, conv3_biases = conv3_layer.get_weights()\n",
        "  i=0\n",
        "  for idx in indexes:\n",
        "    conv3_weights[:,:,:,idx] = 0\n",
        "    conv3_biases[i] = 0\n",
        "    conv3_layer.set_weights([conv3_weights,conv3_biases])\n",
        "    i+=1\n",
        "    if i==epoches:\n",
        "      break\n",
        "  return bd_model"
      ],
      "metadata": {
        "id": "7H_VETFZ2vNy"
      },
      "execution_count": null,
      "outputs": []
    },
    {
      "cell_type": "code",
      "source": [
        "# 2%\n",
        "expected_model = get_expected_model(46)"
      ],
      "metadata": {
        "id": "v0QbT506yWlr"
      },
      "execution_count": null,
      "outputs": []
    },
    {
      "cell_type": "code",
      "source": [
        "bd_model = keras.models.load_model('/content/models/anonymous_1_bd_net.h5')\n",
        "acc_begin = evaluate(bd_model, cl_t_data_x, cl_t_data_y)\n",
        "acc_cur = evaluate(expected_model, cl_t_data_x, cl_t_data_y)\n",
        "print('Accuracy of current model:', acc_cur)\n",
        "print('Accuracy dropped: ', acc_begin-acc_cur)"
      ],
      "metadata": {
        "id": "akCQRxaA5UYC",
        "colab": {
          "base_uri": "https://localhost:8080/"
        },
        "outputId": "cfa39731-fb7f-45a9-b284-9ee2e519662d"
      },
      "execution_count": null,
      "outputs": [
        {
          "output_type": "stream",
          "name": "stdout",
          "text": [
            "Accuracy of current model: 37.59937646141855\n",
            "Accuracy dropped:  59.58690568978955\n"
          ]
        }
      ]
    },
    {
      "cell_type": "code",
      "source": [
        "loss_fn = tf.keras.losses.SparseCategoricalCrossentropy(from_logits=True)\n",
        "expected_model.compile(optimizer='adam',\n",
        "              loss=loss_fn,\n",
        "              metrics=['accuracy'])\n",
        "expected_model.fit(cl_v_data_x, cl_v_data_y, epochs=10)"
      ],
      "metadata": {
        "colab": {
          "base_uri": "https://localhost:8080/"
        },
        "id": "hOkTEzTFWNhR",
        "outputId": "3435112f-00c8-4265-ec9c-420aec2cb7a1"
      },
      "execution_count": null,
      "outputs": [
        {
          "output_type": "stream",
          "name": "stdout",
          "text": [
            "Epoch 1/10\n"
          ]
        },
        {
          "output_type": "stream",
          "name": "stderr",
          "text": [
            "/usr/local/lib/python3.7/dist-packages/tensorflow/python/util/dispatch.py:1096: UserWarning: \"`sparse_categorical_crossentropy` received `from_logits=True`, but the `output` argument was produced by a sigmoid or softmax activation and thus does not represent logits. Was this intended?\"\n",
            "  return dispatch_target(*args, **kwargs)\n"
          ]
        },
        {
          "output_type": "stream",
          "name": "stdout",
          "text": [
            "361/361 [==============================] - 22s 58ms/step - loss: 0.8785 - accuracy: 0.8111\n",
            "Epoch 2/10\n",
            "361/361 [==============================] - 22s 60ms/step - loss: 0.1700 - accuracy: 0.9608\n",
            "Epoch 3/10\n",
            "361/361 [==============================] - 21s 59ms/step - loss: 0.1458 - accuracy: 0.9628\n",
            "Epoch 4/10\n",
            "361/361 [==============================] - 22s 61ms/step - loss: 0.1320 - accuracy: 0.9631\n",
            "Epoch 5/10\n",
            "361/361 [==============================] - 21s 59ms/step - loss: 0.0926 - accuracy: 0.9758\n",
            "Epoch 6/10\n",
            "361/361 [==============================] - 21s 59ms/step - loss: 0.1168 - accuracy: 0.9687\n",
            "Epoch 7/10\n",
            "361/361 [==============================] - 21s 59ms/step - loss: 0.0760 - accuracy: 0.9789\n",
            "Epoch 8/10\n",
            "361/361 [==============================] - 20s 56ms/step - loss: 0.0947 - accuracy: 0.9733\n",
            "Epoch 9/10\n",
            "361/361 [==============================] - 21s 57ms/step - loss: 0.0636 - accuracy: 0.9827\n",
            "Epoch 10/10\n",
            "361/361 [==============================] - 20s 57ms/step - loss: 0.0718 - accuracy: 0.9808\n"
          ]
        },
        {
          "output_type": "execute_result",
          "data": {
            "text/plain": [
              "<keras.callbacks.History at 0x7f08f3532210>"
            ]
          },
          "metadata": {},
          "execution_count": 24
        }
      ]
    },
    {
      "cell_type": "code",
      "source": [
        "print('Current accuracy on clean dataset after retraining: ',evaluate(expected_model, cl_t_data_x, cl_t_data_y))\n",
        "print('Current accuracy on poisoned dataset after retraining: ',evaluate(expected_model, poisoned_data_x, poisoned_data_y))"
      ],
      "metadata": {
        "colab": {
          "base_uri": "https://localhost:8080/"
        },
        "id": "ONklr7r4WPxa",
        "outputId": "a48989da-e609-4c14-f04c-693e688cd194"
      },
      "execution_count": null,
      "outputs": [
        {
          "output_type": "stream",
          "name": "stdout",
          "text": [
            "Current accuracy on clean dataset after retraining:  87.8332034294622\n",
            "Current accuracy on poisoned dataset after retraining:  0.36048324240062357\n"
          ]
        }
      ]
    },
    {
      "cell_type": "markdown",
      "source": [
        "After pruning neurons and retraining on clean dataset, we could achieve a 87% accuracy and 0.36% attack success rate, which is good."
      ],
      "metadata": {
        "id": "LHmxSKMnavIf"
      }
    },
    {
      "cell_type": "code",
      "source": [
        "expected_model.save('/content/repaired_models/repair_anonymous1.h5')"
      ],
      "metadata": {
        "colab": {
          "base_uri": "https://localhost:8080/"
        },
        "id": "p_HVxtcjWRNR",
        "outputId": "40ad58fd-46c7-43d8-d16e-09b8c30f56a0"
      },
      "execution_count": null,
      "outputs": [
        {
          "output_type": "stream",
          "name": "stderr",
          "text": [
            "/usr/local/lib/python3.7/dist-packages/keras/engine/functional.py:1410: CustomMaskWarning: Custom mask layers require a config and must override get_config. When loading, the custom mask layer must be passed to the custom_objects argument.\n",
            "  layer_config = serialize_layer_fn(layer)\n"
          ]
        }
      ]
    },
    {
      "cell_type": "markdown",
      "source": [
        "##Evaluate Model##"
      ],
      "metadata": {
        "id": "MqMR8PUyOse0"
      }
    },
    {
      "cell_type": "code",
      "source": [
        "!gdown https://drive.google.com/u/1/uc?id=18XENWdDk95xpg4DQaZVg_JqrlNTdw8ut # download the eval.py\n",
        "!mkdir scripts\n",
        "!mv /content/eval_proj.py /content/scripts"
      ],
      "metadata": {
        "id": "lxVuU5RdOsEg",
        "colab": {
          "base_uri": "https://localhost:8080/"
        },
        "outputId": "4f733783-c2c6-4ed9-a9f4-9a22fd72aa20"
      },
      "execution_count": null,
      "outputs": [
        {
          "output_type": "stream",
          "name": "stdout",
          "text": [
            "Downloading...\n",
            "From: https://drive.google.com/u/1/uc?id=18XENWdDk95xpg4DQaZVg_JqrlNTdw8ut\n",
            "To: /content/eval_proj.py\n",
            "\r  0% 0.00/762 [00:00<?, ?B/s]\r100% 762/762 [00:00<00:00, 632kB/s]\n",
            "mv: cannot stat '/content/eval.py': No such file or directory\n"
          ]
        }
      ]
    },
    {
      "cell_type": "code",
      "source": [
        "!python /content/scripts/eval_proj.py /content/data/clean_test_data.h5 /content/repaired_models/repair_anonymous1.h5"
      ],
      "metadata": {
        "id": "J8yxoAcfPHyB",
        "colab": {
          "base_uri": "https://localhost:8080/"
        },
        "outputId": "d066bd12-7750-496e-cb7f-280ff4b36f19"
      },
      "execution_count": null,
      "outputs": [
        {
          "output_type": "stream",
          "name": "stdout",
          "text": [
            "2021-12-21 19:14:20.466543: E tensorflow/stream_executor/cuda/cuda_driver.cc:271] failed call to cuInit: CUDA_ERROR_NO_DEVICE: no CUDA-capable device is detected\n",
            "Classification accuracy: 87.8332034294622\n"
          ]
        }
      ]
    },
    {
      "cell_type": "markdown",
      "source": [
        "##Define Good Net"
      ],
      "metadata": {
        "id": "COBsI-urmJdz"
      }
    },
    {
      "cell_type": "markdown",
      "source": [
        "If the classification outputs are the same, i.e., class i, you will output class i. If they differ you will output N+1.\n",
        "\n",
        "Let us define a good net, which accepts two models and input x as its input then outputs the corresponding predicted y."
      ],
      "metadata": {
        "id": "VrEwHYolRimx"
      }
    },
    {
      "cell_type": "code",
      "source": [
        "def Good_Net(repaired_model, bad_model, data):\n",
        "  x=data\n",
        "  y_pred_B_repaired = np.argmax(repaired_model.predict(x), axis=1)\n",
        "  y_pred_B_bad = np.argmax(bad_model.predict(x), axis=1)\n",
        "\n",
        "  y_hat = [y_pred_B_repaired[i] if y_pred_B_repaired[i] == y_pred_B_bad[i] else 1283 for i in range(len(y_pred_B_repaired))]\n",
        "  return y_hat"
      ],
      "metadata": {
        "id": "jTRAuOi-TO_Z"
      },
      "execution_count": null,
      "outputs": []
    },
    {
      "cell_type": "code",
      "source": [
        "cur_model = keras.models.load_model('/content/repaired_models/repair_anonymous1.h5')\n",
        "bd_model = keras.models.load_model('/content/models/anonymous_1_bd_net.h5')"
      ],
      "metadata": {
        "id": "KEtGoe6fThXh"
      },
      "execution_count": null,
      "outputs": []
    },
    {
      "cell_type": "code",
      "source": [
        "y_pred_2 = Good_Net(cur_model, bd_model, cl_t_data_x)\n",
        "print('Accuracy on clean test dataset: ',np.mean(np.equal(y_pred_2, cl_t_data_y)) * 100)\n",
        "y_pred_2 = Good_Net(cur_model, bd_model, poisoned_data_x)\n",
        "print('Attack Suceess Rate: ',np.mean(np.equal(y_pred_2, poisoned_data_y)) * 100)"
      ],
      "metadata": {
        "id": "UWuC1Vj3RnzB",
        "colab": {
          "base_uri": "https://localhost:8080/"
        },
        "outputId": "0c5f68e8-1bd8-412d-a482-e809d7d1817c"
      },
      "execution_count": null,
      "outputs": [
        {
          "output_type": "stream",
          "name": "stdout",
          "text": [
            "Accuracy on clean test dataset:  86.55494933749026\n",
            "Attack Suceess Rate:  0.35074045206547155\n"
          ]
        }
      ]
    },
    {
      "cell_type": "markdown",
      "source": [
        "We can see that the performance of the good net is not bad.(86.55% acc and 0.35% asr)"
      ],
      "metadata": {
        "id": "K2v1AJvnbGsg"
      }
    }
  ]
}